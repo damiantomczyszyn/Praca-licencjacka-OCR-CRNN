{
 "cells": [
  {
   "cell_type": "code",
   "execution_count": 1,
   "id": "b873a91c",
   "metadata": {},
   "outputs": [
    {
     "name": "stderr",
     "output_type": "stream",
     "text": [
      "2022-05-23 12:21:42.031911: I tensorflow/stream_executor/cuda/cuda_gpu_executor.cc:936] successful NUMA node read from SysFS had negative value (-1), but there must be at least one NUMA node, so returning NUMA node zero\n",
      "2022-05-23 12:21:42.089787: I tensorflow/stream_executor/cuda/cuda_gpu_executor.cc:936] successful NUMA node read from SysFS had negative value (-1), but there must be at least one NUMA node, so returning NUMA node zero\n",
      "2022-05-23 12:21:42.090029: I tensorflow/stream_executor/cuda/cuda_gpu_executor.cc:936] successful NUMA node read from SysFS had negative value (-1), but there must be at least one NUMA node, so returning NUMA node zero\n",
      "2022-05-23 12:21:42.091261: I tensorflow/core/platform/cpu_feature_guard.cc:151] This TensorFlow binary is optimized with oneAPI Deep Neural Network Library (oneDNN) to use the following CPU instructions in performance-critical operations:  AVX2 FMA\n",
      "To enable them in other operations, rebuild TensorFlow with the appropriate compiler flags.\n",
      "2022-05-23 12:21:42.110631: I tensorflow/stream_executor/cuda/cuda_gpu_executor.cc:936] successful NUMA node read from SysFS had negative value (-1), but there must be at least one NUMA node, so returning NUMA node zero\n",
      "2022-05-23 12:21:42.110927: I tensorflow/stream_executor/cuda/cuda_gpu_executor.cc:936] successful NUMA node read from SysFS had negative value (-1), but there must be at least one NUMA node, so returning NUMA node zero\n",
      "2022-05-23 12:21:42.111153: I tensorflow/stream_executor/cuda/cuda_gpu_executor.cc:936] successful NUMA node read from SysFS had negative value (-1), but there must be at least one NUMA node, so returning NUMA node zero\n",
      "2022-05-23 12:21:42.842450: I tensorflow/stream_executor/cuda/cuda_gpu_executor.cc:936] successful NUMA node read from SysFS had negative value (-1), but there must be at least one NUMA node, so returning NUMA node zero\n",
      "2022-05-23 12:21:42.842684: I tensorflow/stream_executor/cuda/cuda_gpu_executor.cc:936] successful NUMA node read from SysFS had negative value (-1), but there must be at least one NUMA node, so returning NUMA node zero\n",
      "2022-05-23 12:21:42.842808: I tensorflow/stream_executor/cuda/cuda_gpu_executor.cc:936] successful NUMA node read from SysFS had negative value (-1), but there must be at least one NUMA node, so returning NUMA node zero\n",
      "2022-05-23 12:21:42.843286: I tensorflow/core/common_runtime/gpu/gpu_device.cc:1525] Created device /job:localhost/replica:0/task:0/device:GPU:0 with 9943 MB memory:  -> device: 0, name: NVIDIA GeForce RTX 3060, pci bus id: 0000:0a:00.0, compute capability: 8.6\n",
      "/usr/local/lib/python3.8/dist-packages/keras/optimizer_v2/adam.py:105: UserWarning: The `lr` argument is deprecated, use `learning_rate` instead.\n",
      "  super(Adam, self).__init__(name, **kwargs)\n"
     ]
    }
   ],
   "source": [
    "import numpy as np\n",
    "import tensorflow as tf\n",
    "from SegmentPage import segment_into_lines\n",
    "from SegmentLine import segment_into_words\n",
    "from RecognizeWord import recognize_words\n",
    "\n"
   ]
  },
  {
   "cell_type": "code",
   "execution_count": 2,
   "id": "636dfdff",
   "metadata": {},
   "outputs": [
    {
     "name": "stderr",
     "output_type": "stream",
     "text": [
      "2022-05-23 12:21:45.563582: I tensorflow/stream_executor/cuda/cuda_dnn.cc:368] Loaded cuDNN version 8400\n",
      "2022-05-23 12:21:47.266800: I tensorflow/core/platform/default/subprocess.cc:304] Start cannot spawn child process: No such file or directory\n"
     ]
    }
   ],
   "source": [
    "\n",
    "\n",
    "\n",
    "#Open image and segment into lines\n",
    "line_img_array=segment_into_lines('test_image2.jpeg')\n",
    "\n",
    "\n",
    "#Creating lists to store the line indexes,words list.\n",
    "full_index_indicator=[]\n",
    "all_words_list=[]\n",
    "#Variable to count the total no of lines in page.\n",
    "len_line_arr=0\n",
    "\n"
   ]
  },
  {
   "cell_type": "code",
   "execution_count": 3,
   "id": "5c4b8e61",
   "metadata": {},
   "outputs": [
    {
     "name": "stdout",
     "output_type": "stream",
     "text": [
      "<class 'numpy.ndarray'>\n",
      "(219, 1290)\n"
     ]
    }
   ],
   "source": [
    "print(type(line_img_array[0]))\n",
    "print(line_img_array[2].shape)"
   ]
  },
  {
   "cell_type": "code",
   "execution_count": 4,
   "id": "b82195fa",
   "metadata": {},
   "outputs": [],
   "source": [
    "#print(line_img_array[0])"
   ]
  },
  {
   "cell_type": "code",
   "execution_count": 5,
   "id": "38ab01ed",
   "metadata": {},
   "outputs": [],
   "source": [
    "#Segment the lines into words and store as arrays.\n",
    "for idx,im in enumerate(line_img_array):\n",
    "    line_indicator,word_array=segment_into_words(im,idx)\n",
    "    for k in range(len(word_array)):\n",
    "        full_index_indicator.append(line_indicator[k])\n",
    "        all_words_list.append(word_array[k])   \n",
    "        \n",
    "    len_line_arr+=1\n",
    "    \n",
    "\n",
    "all_words_list=np.array(all_words_list)\n",
    "\n",
    "\n"
   ]
  },
  {
   "cell_type": "code",
   "execution_count": 6,
   "id": "cb875393",
   "metadata": {},
   "outputs": [
    {
     "name": "stdout",
     "output_type": "stream",
     "text": [
      "<class 'numpy.ndarray'>\n",
      "(32, 128, 1)\n"
     ]
    }
   ],
   "source": [
    "print(type(word_array[0]))\n",
    "print(word_array[0].shape)"
   ]
  },
  {
   "cell_type": "code",
   "execution_count": 7,
   "id": "54976115",
   "metadata": {},
   "outputs": [],
   "source": [
    "#print(word_array[0])"
   ]
  },
  {
   "cell_type": "code",
   "execution_count": 8,
   "id": "bd730d5c",
   "metadata": {},
   "outputs": [
    {
     "name": "stderr",
     "output_type": "stream",
     "text": [
      "2022-05-23 12:21:52.399827: I tensorflow/stream_executor/cuda/cuda_blas.cc:1786] TensorFloat-32 will be used for the matrix multiplication. This will only be logged once.\n"
     ]
    },
    {
     "name": "stdout",
     "output_type": "stream",
     "text": [
      "EEEEEEEEEEEE\n",
      "'R.@@I\n",
      "ProCUlediI aS@I PredredI Dc(ter@@I SDcedi[vI stairs@@I ig@@I (0@@@I differedI [lc@I Confemo( coVe@@@I marianIeI admire.@I r:anched: oH|@! [e@@I |eaSlreI AIig@@I i`otieSI [gmGraItI QId|@I kewise@I eat@I QI10l]red SeCl]I`e@@I Fa||@@I C|eatiiq.@I Ai`e@@I SeX@I 0CCasi0: [er@I Ca]|ed@@I kneW@I Wondci@I csteem@@I Oe@@I [O00I@@I '@#|I 2i@@I [ooV@I [OW@@@I Draise@I ]Ilab!e@@ aSSU`e@I doeS@I So@I 2XCeoC@@I t|e.@@I InCGIe@I [0IeOVI\n",
      "SOirit@@I [GV8i'S@I Set@@I\n",
      "Caried@I themSe|veS Siir@@I Do@I b@@I SG@@I ritte@@I eeoaICcI femaIes@I simp|icity: 2S@@I of@I &rria9e Iaising@@I LD@@I I0@I [ighest@@I Dar!orS@I of@@@I dve[[ingI C0ntrasted Ca|]ing.@I SpiritS@@I |ikewige Limitg@@I [li@I dS.@I e!der[v@I Dclaq@@I (ositionI [Arked@I QFea(@@I Made@@ o!c@@@I |ed@@@I daV@I |ate@I oeaSIeI gi|el(@I ]olIS@I i|@@I dining@I ofhig[@@I en@@I [e@I |1er@@I StfF@I |eF@@I Dissimi|ar ghe@@I hoI.@I -on@I far.@@I (O@@@I\n",
      "o@I a||oV@@I (0@I asked@I [e@@I '@I [i@@I\n",
      "@@I\n",
      "Cu|tivated ho@@I [`eSoIutio CGIlIecti0n [otIonIegS id@@@I occasiona| )GLlIIleVI '@I (romise@I '@I\n",
      "SIi|e@@ OI'.@@I SllSSeX@I Far@@I i[@I it@I o@I end@@I COlOllGl a|one@@I [t@@I [Gssie@I [0t@@I aoode@@ ]oI`SeS@I |1ad|.@I all@I K0rds@@@I bIessingI a[]@@I [`&Iain@I lirh@@I DeQ&n@@I Sensibe giste1@@I aD0d6I 2njoy@@I v[i@I MlOf@I Set@I VearS@@I (arisI@@I hi[ls@@I but@@I [aI92Ie(I [O@@@I 0GGed. ig@I o@@I G@@I [G.@I |1e@I 9M@I interestI dISWGI ried@@I M6M@@I Spoi|@@I I`OlSed@@I Of@I dGS@@I aS@@I (&dIS@I fOI@I |ear(@@I pidlled@@I 0Fc@@I DGdV@@I visit@I daV@@I aff6rd@@I DUl`c.@@I b[us|@@I o|ind@@I\n",
      "affection PerhaDS@I SVeeteS6 C0sigted. Vievi1gI far@@I |asti|y@I 0L(@@I 0I@@@I S|e@I exD0Se@I extremiv: sinceri(yI '@I a!thoug[I 0I@@I iitCell@@I ae@@I As@I at@@I C|eerf|I effec(6@@I daug|te`S. ioerab|qI deareg(@@I N6U@@I D&rCeiVeI eder]q@I ['eCGmmeiC ProvidedI istrust6I LU@@I $Ceeed: ea|1eI (([(@I VGU@@I ghame|eg6 LllDacked [rowingI |er@@@I [i@@I deIiveredI 0S@@I Sc@@I lnfee[ingI l0W@I [e'@@I [irection bu@@I aoo[aude: [ot@@I |e@@I ringing.I eQi@I SO@@I o(iection distaICe.\n",
      "Lnfee|ingI IeAHS@I [eIoging AnSW2rI ied@@@I miSerV@I |ig@@@I Con(eted |rift@@I SOIletimeS ad|1elS@@I atUra|@I [I@@I add@@I See@@@@I Suffering end@@I ooded@I day@@I [a4@I [I0Iotio. q|1etherI faVGllriteI |0U@I [l3V@I ut@@I Ouittin9I VGU@@I |e@@I dId@@I he@@I [efore@ (0V&rd|g continua[I inf6rmedI [hoLg|.@I Cer(ain@I Mrs@@@I CGHCeInS Pretended F(lnighed Civi|@@I ilaV@@I CdM@@I [eM@@I ]eaS(@I\n",
      ".e@@I\n",
      "llOW@@I roject0I O@@@I 0I@@@I U(O@@@I C0Victi0Il IlC0illl0n[)y deiehtful C0ntinuing [n@@I 0(Oetitc\n"
     ]
    }
   ],
   "source": [
    "#Perform the recognition on list of list of words.\n",
    "recognize_words(full_index_indicator,all_words_list,len_line_arr)"
   ]
  },
  {
   "cell_type": "code",
   "execution_count": 9,
   "id": "3cc8eb56",
   "metadata": {},
   "outputs": [],
   "source": [
    "#Perform the recognition on list of list of words.\n",
    "#recognize_words(full_index_indicator,all_words_list,len_line_arr)"
   ]
  },
  {
   "cell_type": "code",
   "execution_count": null,
   "id": "db1c476b",
   "metadata": {},
   "outputs": [],
   "source": []
  }
 ],
 "metadata": {
  "kernelspec": {
   "display_name": "Python 3 (ipykernel)",
   "language": "python",
   "name": "python3"
  },
  "language_info": {
   "codemirror_mode": {
    "name": "ipython",
    "version": 3
   },
   "file_extension": ".py",
   "mimetype": "text/x-python",
   "name": "python",
   "nbconvert_exporter": "python",
   "pygments_lexer": "ipython3",
   "version": "3.8.10"
  }
 },
 "nbformat": 4,
 "nbformat_minor": 5
}

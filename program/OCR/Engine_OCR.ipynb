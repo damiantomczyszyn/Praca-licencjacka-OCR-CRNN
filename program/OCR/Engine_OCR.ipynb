{
 "cells": [
  {
   "cell_type": "code",
   "execution_count": 1,
   "id": "b873a91c",
   "metadata": {},
   "outputs": [
    {
     "name": "stderr",
     "output_type": "stream",
     "text": [
      "2022-06-16 19:30:24.013140: I tensorflow/stream_executor/cuda/cuda_gpu_executor.cc:936] successful NUMA node read from SysFS had negative value (-1), but there must be at least one NUMA node, so returning NUMA node zero\n",
      "2022-06-16 19:30:24.041379: I tensorflow/stream_executor/cuda/cuda_gpu_executor.cc:936] successful NUMA node read from SysFS had negative value (-1), but there must be at least one NUMA node, so returning NUMA node zero\n",
      "2022-06-16 19:30:24.041574: I tensorflow/stream_executor/cuda/cuda_gpu_executor.cc:936] successful NUMA node read from SysFS had negative value (-1), but there must be at least one NUMA node, so returning NUMA node zero\n",
      "2022-06-16 19:30:24.042630: I tensorflow/core/platform/cpu_feature_guard.cc:151] This TensorFlow binary is optimized with oneAPI Deep Neural Network Library (oneDNN) to use the following CPU instructions in performance-critical operations:  AVX2 FMA\n",
      "To enable them in other operations, rebuild TensorFlow with the appropriate compiler flags.\n",
      "2022-06-16 19:30:24.061493: I tensorflow/stream_executor/cuda/cuda_gpu_executor.cc:936] successful NUMA node read from SysFS had negative value (-1), but there must be at least one NUMA node, so returning NUMA node zero\n",
      "2022-06-16 19:30:24.061750: I tensorflow/stream_executor/cuda/cuda_gpu_executor.cc:936] successful NUMA node read from SysFS had negative value (-1), but there must be at least one NUMA node, so returning NUMA node zero\n",
      "2022-06-16 19:30:24.061944: I tensorflow/stream_executor/cuda/cuda_gpu_executor.cc:936] successful NUMA node read from SysFS had negative value (-1), but there must be at least one NUMA node, so returning NUMA node zero\n",
      "2022-06-16 19:30:24.459972: I tensorflow/stream_executor/cuda/cuda_gpu_executor.cc:936] successful NUMA node read from SysFS had negative value (-1), but there must be at least one NUMA node, so returning NUMA node zero\n",
      "2022-06-16 19:30:24.460150: I tensorflow/stream_executor/cuda/cuda_gpu_executor.cc:936] successful NUMA node read from SysFS had negative value (-1), but there must be at least one NUMA node, so returning NUMA node zero\n",
      "2022-06-16 19:30:24.460273: I tensorflow/stream_executor/cuda/cuda_gpu_executor.cc:936] successful NUMA node read from SysFS had negative value (-1), but there must be at least one NUMA node, so returning NUMA node zero\n",
      "2022-06-16 19:30:24.460393: I tensorflow/core/common_runtime/gpu/gpu_device.cc:1525] Created device /job:localhost/replica:0/task:0/device:GPU:0 with 9739 MB memory:  -> device: 0, name: NVIDIA GeForce RTX 3060, pci bus id: 0000:0a:00.0, compute capability: 8.6\n",
      "/usr/local/lib/python3.8/dist-packages/keras/optimizer_v2/adam.py:105: UserWarning: The `lr` argument is deprecated, use `learning_rate` instead.\n",
      "  super(Adam, self).__init__(name, **kwargs)\n"
     ]
    }
   ],
   "source": [
    "import numpy as np\n",
    "import tensorflow as tf\n",
    "from SegmentPage import segment_into_lines\n",
    "from SegmentLine import segment_into_words\n",
    "from RecognizeWord import recognize_words\n",
    "\n"
   ]
  },
  {
   "cell_type": "code",
   "execution_count": 2,
   "id": "636dfdff",
   "metadata": {},
   "outputs": [
    {
     "name": "stderr",
     "output_type": "stream",
     "text": [
      "2022-06-16 19:30:26.893130: I tensorflow/stream_executor/cuda/cuda_dnn.cc:368] Loaded cuDNN version 8401\n",
      "2022-06-16 19:30:28.611530: I tensorflow/core/platform/default/subprocess.cc:304] Start cannot spawn child process: No such file or directory\n"
     ]
    }
   ],
   "source": [
    "\n",
    "\n",
    "\n",
    "#Open image and segment into lines\n",
    "line_img_array=segment_into_lines('test_image2.jpeg')\n",
    "\n",
    "\n",
    "#Creating lists to store the line indexes,words list.\n",
    "full_index_indicator=[]\n",
    "all_words_list=[]\n",
    "#Variable to count the total no of lines in page.\n",
    "len_line_arr=0\n",
    "\n"
   ]
  },
  {
   "cell_type": "code",
   "execution_count": 3,
   "id": "5c4b8e61",
   "metadata": {},
   "outputs": [
    {
     "name": "stdout",
     "output_type": "stream",
     "text": [
      "<class 'numpy.ndarray'>\n",
      "(44, 1041)\n"
     ]
    }
   ],
   "source": [
    "print(type(line_img_array[0]))\n",
    "print(line_img_array[2].shape)"
   ]
  },
  {
   "cell_type": "code",
   "execution_count": 4,
   "id": "b82195fa",
   "metadata": {},
   "outputs": [],
   "source": [
    "#print(line_img_array[0])"
   ]
  },
  {
   "cell_type": "code",
   "execution_count": 5,
   "id": "38ab01ed",
   "metadata": {},
   "outputs": [],
   "source": [
    "#Segment the lines into words and store as arrays.\n",
    "for idx,im in enumerate(line_img_array):\n",
    "    line_indicator,word_array=segment_into_words(im,idx)\n",
    "    for k in range(len(word_array)):\n",
    "        full_index_indicator.append(line_indicator[k])\n",
    "        all_words_list.append(word_array[k])   \n",
    "        \n",
    "    len_line_arr+=1\n",
    "    \n",
    "\n",
    "all_words_list=np.array(all_words_list)\n",
    "\n",
    "\n"
   ]
  },
  {
   "cell_type": "code",
   "execution_count": 6,
   "id": "cb875393",
   "metadata": {},
   "outputs": [
    {
     "name": "stdout",
     "output_type": "stream",
     "text": [
      "<class 'numpy.ndarray'>\n",
      "(32, 128, 1)\n"
     ]
    }
   ],
   "source": [
    "print(type(word_array[0]))\n",
    "print(word_array[0].shape)"
   ]
  },
  {
   "cell_type": "code",
   "execution_count": 7,
   "id": "54976115",
   "metadata": {},
   "outputs": [],
   "source": [
    "#print(word_array[0])"
   ]
  },
  {
   "cell_type": "code",
   "execution_count": 8,
   "id": "bd730d5c",
   "metadata": {},
   "outputs": [
    {
     "name": "stderr",
     "output_type": "stream",
     "text": [
      "2022-06-16 19:30:35.099249: I tensorflow/stream_executor/cuda/cuda_blas.cc:1786] TensorFloat-32 will be used for the matrix multiplication. This will only be logged once.\n"
     ]
    },
    {
     "name": "stdout",
     "output_type": "stream",
     "text": [
      "XtTI)])] Bertrandde Comminges is\"I])] a7TI)])] decaved +ownTI])] on\"I])] the\"I)])]\n",
      "|TI])])[] spurs\"I])] ofthe'Pyrenees,notvery farI])] fromTI])] Toulouse, andI])]\n",
      "stillnearerto Bagneres-de-Luchon ItwAs\"I)] rhe\"I])] siteTI])] ofa\"I])]\n",
      "bishopric untilI)])] theTI)])[] Revolution, andI)])] has\"I])] 'aTI)])] cathedral\n",
      "whichT)\" is\"I)])] visitedbv acertainnumber oftourists InTI)])] theI)])[]\n",
      "|TI])])[] 5mIWh8mIwz)mDmwl this\"TI])] old-world\n",
      "|TI])])[] vlace@I])] --ZTI]))] II])] canI)])] hardlvI|\" dignifv| itTI])])] withTI])] theTI])] nAme\"II)] ofI)])] city.\"TI)])]\n",
      "frI])] there@I])] areI)])] not\"I)])] 'a'I)])[] thousaHd inhabitants. He\"I])[] wasTI)])] aTI)])]\n",
      "Cambridge man,\"I])] whoTI])] hadcome speciallv fromTI)])] Tou!7I])]\n",
      "]ouse\"I])] toTI)])] see7TI)])] XtTI])] Bertrand`s Chrch, andhad lefI])] +Wo\"TI)])]\n",
      "friends, whoTI)])] wereless keen\"I])] archaeologists rhanTI])] him.\"I)])]\n",
      "se]f,II])] inTI])] :heir.kotel.at.Toulose; underpromiseto 4oinTI])]\n",
      "himTI])] onTI])] theI])] following morning. HalfI])] 'anTI)])] hourI)])] 'atTI)])] theTI)])]\n",
      "church would\" satisfvI]\" re)/,\"I])] andI)])] allI])] threeI])] couldI]\" thenTI)])]\n",
      "|TI])]))[] pursue\" theirI])] iournev 1nthe\"TI])] directionofAuch Butour\n",
      "Englishman hadI)])] comeTI)])] ear]vTI])] onTI])] rhe@TI)])[] davTI])] inTI])] auestion.\n",
      "|TI])])] andproposed toTI)])] himselfto fillI)])] 'aTI)])] notebook andI])] to1I)])[] useTI)])]\n",
      "several dozens ofI])] plates\"I)]\" 1nTI)])] theI)])] process ofdesCribing\n",
      "|TI])])[] 'andI)])] photographing everv7)])] corner|\" ofI])])[] theTI])[] wonderful\n",
      "|TI])])[] church thatI])] dominates rheIirlchlIfCommingrs In\"I])]\n",
      "order'I)\" to\"I)])] cArrvI])] out\"I)])] this\"I)])] desien\"I)\" satisfactorily, itTI)])] Was\"I])]\n",
      "necessary to\"TI)])] monopolise theTI)])] vereer'I)] ofthe\"I)] church\" forT))])]\n",
      "theI])] dav.\"I])] The\"I])] vergerI)] or1I])] sacristan (II])] prefer|I]\" theI)])] latter'7I])]\n",
      "appellation, inaccurate as\"I])] itTI)])] maybe)was accordingly\n",
      "sent1I])] for@I])[] bvTI])] theTI)])] somewhat brusaue ladvTI])] who\"TI)])] keeps\"I)] the\"I)])[]\n",
      "inHTI])] ofI])])] theTI)])] Chapeau Rouee;T\" andI])] whenTI])] he\"I])[] came,\"I)] the\"I)])]\n",
      "Englishman foundI)] himTI)])] anTI])] unexpectedly interesting\n",
      "ob1ectT\" ofstudv. It1I)])] was\"I)])] notI)])] 1nTI])] thepersonal appearance\n",
      "|TI])])[] oftheI)] little,dry, wizcned'okd'manthat theI)])] 1nterest lav,T\"I)])]\n"
     ]
    }
   ],
   "source": [
    "#Perform the recognition on list of list of words.\n",
    "recognize_words(full_index_indicator,all_words_list,len_line_arr)"
   ]
  },
  {
   "cell_type": "code",
   "execution_count": 9,
   "id": "3cc8eb56",
   "metadata": {},
   "outputs": [],
   "source": [
    "#Perform the recognition on list of list of words.\n",
    "#recognize_words(full_index_indicator,all_words_list,len_line_arr)"
   ]
  },
  {
   "cell_type": "code",
   "execution_count": null,
   "id": "db1c476b",
   "metadata": {},
   "outputs": [],
   "source": []
  }
 ],
 "metadata": {
  "kernelspec": {
   "display_name": "Python 3 (ipykernel)",
   "language": "python",
   "name": "python3"
  },
  "language_info": {
   "codemirror_mode": {
    "name": "ipython",
    "version": 3
   },
   "file_extension": ".py",
   "mimetype": "text/x-python",
   "name": "python",
   "nbconvert_exporter": "python",
   "pygments_lexer": "ipython3",
   "version": "3.8.10"
  }
 },
 "nbformat": 4,
 "nbformat_minor": 5
}

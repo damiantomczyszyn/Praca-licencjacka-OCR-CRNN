{
 "cells": [
  {
   "cell_type": "code",
   "execution_count": 1,
   "id": "b873a91c",
   "metadata": {},
   "outputs": [
    {
     "name": "stderr",
     "output_type": "stream",
     "text": [
      "2022-06-19 09:53:27.360833: I tensorflow/stream_executor/cuda/cuda_gpu_executor.cc:936] successful NUMA node read from SysFS had negative value (-1), but there must be at least one NUMA node, so returning NUMA node zero\n",
      "2022-06-19 09:53:27.387216: I tensorflow/stream_executor/cuda/cuda_gpu_executor.cc:936] successful NUMA node read from SysFS had negative value (-1), but there must be at least one NUMA node, so returning NUMA node zero\n",
      "2022-06-19 09:53:27.387394: I tensorflow/stream_executor/cuda/cuda_gpu_executor.cc:936] successful NUMA node read from SysFS had negative value (-1), but there must be at least one NUMA node, so returning NUMA node zero\n",
      "2022-06-19 09:53:27.388012: I tensorflow/core/platform/cpu_feature_guard.cc:151] This TensorFlow binary is optimized with oneAPI Deep Neural Network Library (oneDNN) to use the following CPU instructions in performance-critical operations:  AVX2 FMA\n",
      "To enable them in other operations, rebuild TensorFlow with the appropriate compiler flags.\n",
      "2022-06-19 09:53:27.409630: I tensorflow/stream_executor/cuda/cuda_gpu_executor.cc:936] successful NUMA node read from SysFS had negative value (-1), but there must be at least one NUMA node, so returning NUMA node zero\n",
      "2022-06-19 09:53:27.409927: I tensorflow/stream_executor/cuda/cuda_gpu_executor.cc:936] successful NUMA node read from SysFS had negative value (-1), but there must be at least one NUMA node, so returning NUMA node zero\n",
      "2022-06-19 09:53:27.410145: I tensorflow/stream_executor/cuda/cuda_gpu_executor.cc:936] successful NUMA node read from SysFS had negative value (-1), but there must be at least one NUMA node, so returning NUMA node zero\n",
      "2022-06-19 09:53:27.788067: I tensorflow/stream_executor/cuda/cuda_gpu_executor.cc:936] successful NUMA node read from SysFS had negative value (-1), but there must be at least one NUMA node, so returning NUMA node zero\n",
      "2022-06-19 09:53:27.788244: I tensorflow/stream_executor/cuda/cuda_gpu_executor.cc:936] successful NUMA node read from SysFS had negative value (-1), but there must be at least one NUMA node, so returning NUMA node zero\n",
      "2022-06-19 09:53:27.788369: I tensorflow/stream_executor/cuda/cuda_gpu_executor.cc:936] successful NUMA node read from SysFS had negative value (-1), but there must be at least one NUMA node, so returning NUMA node zero\n",
      "2022-06-19 09:53:27.788496: I tensorflow/core/common_runtime/gpu/gpu_device.cc:1525] Created device /job:localhost/replica:0/task:0/device:GPU:0 with 9642 MB memory:  -> device: 0, name: NVIDIA GeForce RTX 3060, pci bus id: 0000:0a:00.0, compute capability: 8.6\n",
      "/usr/local/lib/python3.8/dist-packages/keras/optimizer_v2/adam.py:105: UserWarning: The `lr` argument is deprecated, use `learning_rate` instead.\n",
      "  super(Adam, self).__init__(name, **kwargs)\n"
     ]
    }
   ],
   "source": [
    "import numpy as np\n",
    "import tensorflow as tf\n",
    "from SegmentPage import segment_into_lines\n",
    "from SegmentLine import segment_into_words\n",
    "from RecognizeWord import recognize_words\n",
    "\n"
   ]
  },
  {
   "cell_type": "code",
   "execution_count": 2,
   "id": "636dfdff",
   "metadata": {},
   "outputs": [
    {
     "name": "stderr",
     "output_type": "stream",
     "text": [
      "2022-06-19 09:53:29.764920: I tensorflow/stream_executor/cuda/cuda_dnn.cc:368] Loaded cuDNN version 8401\n",
      "2022-06-19 09:53:30.685275: I tensorflow/core/platform/default/subprocess.cc:304] Start cannot spawn child process: No such file or directory\n"
     ]
    }
   ],
   "source": [
    "#line_img_array=segment_into_lines('../../test_data/test_image2.jpeg')\n",
    "line_img_array=segment_into_lines('../../test_data/76.JPG')\n",
    "\n",
    "full_index_indicator=[]\n",
    "all_words_list=[]\n",
    "\n",
    "len_line_arr=0"
   ]
  },
  {
   "cell_type": "code",
   "execution_count": 3,
   "id": "38ab01ed",
   "metadata": {},
   "outputs": [],
   "source": [
    "for idx,im in enumerate(line_img_array):\n",
    "    line_indicator,word_array=segment_into_words(im,idx)\n",
    "    for k in range(len(word_array)):\n",
    "        full_index_indicator.append(line_indicator[k])\n",
    "        all_words_list.append(word_array[k])   \n",
    "        \n",
    "    len_line_arr+=1\n",
    "    \n",
    "\n",
    "all_words_list=np.array(all_words_list)\n",
    "\n",
    "\n"
   ]
  },
  {
   "cell_type": "code",
   "execution_count": 4,
   "id": "bd730d5c",
   "metadata": {},
   "outputs": [
    {
     "name": "stderr",
     "output_type": "stream",
     "text": [
      "2022-06-19 09:53:37.289723: I tensorflow/stream_executor/cuda/cuda_blas.cc:1786] TensorFloat-32 will be used for the matrix multiplication. This will only be logged once.\n"
     ]
    },
    {
     "name": "stdout",
     "output_type": "stream",
     "text": [
      "St Bertrandde Comminges is a decaved town on the\n",
      " spurs ofthe.Pyrenees,notvery far from Toulouse, and\n",
      "stillnearerto Bagneres,deLuchon Itwas the site ofa\n",
      "bishopric until the Revolution, and has a cathedral\n",
      "which is visitedbv acertain.number oftourists. In the\n",
      " vimj86jvoBngshnmmwdm this old..world\n",
      " place LL I can hardlv dignifv it with the name of citv.\n",
      "for there are not a thousand inhabitants. He was a\n",
      "Cambridge man, who hadcome speciallv from .Tou.\n",
      "louse to see St Bertrands Church, andhad left two\n",
      "friends, who wereless keen archaeologists than him.\n",
      "self. in their.hotel.at.Toulouse, underpromiseto ioin\n",
      "him on the following morning. Half an hour at the\n",
      "church would satisfv rhey, and all three could then\n",
      " pursue their ioumev inthe directionofAuch Butour\n",
      "Englishman had come earlv on the dav in auestion.\n",
      " and.proposed to himselfto fill a notebook and to use\n",
      "several dozens of plates in the process ofdescribing\n",
      " and photographing everv corner of the wonderful\n",
      " church that dominates theIithillofCommingcs In\n",
      "order to carrv out this desimn satisfactorily, it was\n",
      "necessary to monopolise the verger ofthe church for\n",
      "the dav. .The verger or sacristan fI prefer the latter\n",
      "appellation, inaccurate as it maybejwas accordingly\n",
      "sent for bv the somewhat brusaue ladv who keeps the\n",
      "inn of the Chapeau Roure. and when he came, the\n",
      "Englishman found him an unexpectedly interesting\n",
      "obiect ofstudv. It was not in thepersonal appearance\n",
      " ofthe little,dry, wizenedoldmanthat the interest lay,\n"
     ]
    }
   ],
   "source": [
    "recognize_words(full_index_indicator,all_words_list/255.,len_line_arr)"
   ]
  }
 ],
 "metadata": {
  "kernelspec": {
   "display_name": "Python 3 (ipykernel)",
   "language": "python",
   "name": "python3"
  },
  "language_info": {
   "codemirror_mode": {
    "name": "ipython",
    "version": 3
   },
   "file_extension": ".py",
   "mimetype": "text/x-python",
   "name": "python",
   "nbconvert_exporter": "python",
   "pygments_lexer": "ipython3",
   "version": "3.8.10"
  }
 },
 "nbformat": 4,
 "nbformat_minor": 5
}

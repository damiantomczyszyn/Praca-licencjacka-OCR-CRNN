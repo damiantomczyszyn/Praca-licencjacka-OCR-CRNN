{
 "cells": [
  {
   "cell_type": "code",
   "execution_count": 1,
   "id": "b873a91c",
   "metadata": {},
   "outputs": [
    {
     "name": "stderr",
     "output_type": "stream",
     "text": [
      "2022-06-19 10:22:51.325999: I tensorflow/stream_executor/cuda/cuda_gpu_executor.cc:936] successful NUMA node read from SysFS had negative value (-1), but there must be at least one NUMA node, so returning NUMA node zero\n",
      "2022-06-19 10:22:51.331716: I tensorflow/stream_executor/cuda/cuda_gpu_executor.cc:936] successful NUMA node read from SysFS had negative value (-1), but there must be at least one NUMA node, so returning NUMA node zero\n",
      "2022-06-19 10:22:51.331929: I tensorflow/stream_executor/cuda/cuda_gpu_executor.cc:936] successful NUMA node read from SysFS had negative value (-1), but there must be at least one NUMA node, so returning NUMA node zero\n",
      "2022-06-19 10:22:51.332587: I tensorflow/core/platform/cpu_feature_guard.cc:151] This TensorFlow binary is optimized with oneAPI Deep Neural Network Library (oneDNN) to use the following CPU instructions in performance-critical operations:  AVX2 FMA\n",
      "To enable them in other operations, rebuild TensorFlow with the appropriate compiler flags.\n",
      "2022-06-19 10:22:51.357676: I tensorflow/stream_executor/cuda/cuda_gpu_executor.cc:936] successful NUMA node read from SysFS had negative value (-1), but there must be at least one NUMA node, so returning NUMA node zero\n",
      "2022-06-19 10:22:51.358103: I tensorflow/stream_executor/cuda/cuda_gpu_executor.cc:936] successful NUMA node read from SysFS had negative value (-1), but there must be at least one NUMA node, so returning NUMA node zero\n",
      "2022-06-19 10:22:51.358323: I tensorflow/stream_executor/cuda/cuda_gpu_executor.cc:936] successful NUMA node read from SysFS had negative value (-1), but there must be at least one NUMA node, so returning NUMA node zero\n",
      "2022-06-19 10:22:51.740102: I tensorflow/stream_executor/cuda/cuda_gpu_executor.cc:936] successful NUMA node read from SysFS had negative value (-1), but there must be at least one NUMA node, so returning NUMA node zero\n",
      "2022-06-19 10:22:51.740281: I tensorflow/stream_executor/cuda/cuda_gpu_executor.cc:936] successful NUMA node read from SysFS had negative value (-1), but there must be at least one NUMA node, so returning NUMA node zero\n",
      "2022-06-19 10:22:51.740406: I tensorflow/stream_executor/cuda/cuda_gpu_executor.cc:936] successful NUMA node read from SysFS had negative value (-1), but there must be at least one NUMA node, so returning NUMA node zero\n",
      "2022-06-19 10:22:51.740529: I tensorflow/core/common_runtime/gpu/gpu_device.cc:1525] Created device /job:localhost/replica:0/task:0/device:GPU:0 with 9691 MB memory:  -> device: 0, name: NVIDIA GeForce RTX 3060, pci bus id: 0000:0a:00.0, compute capability: 8.6\n",
      "/usr/local/lib/python3.8/dist-packages/keras/optimizer_v2/adam.py:105: UserWarning: The `lr` argument is deprecated, use `learning_rate` instead.\n",
      "  super(Adam, self).__init__(name, **kwargs)\n"
     ]
    }
   ],
   "source": [
    "import numpy as np\n",
    "import tensorflow as tf\n",
    "from SegmentPage import segment_into_lines\n",
    "from SegmentLine import segment_into_words\n",
    "from RecognizeWord import recognize_words\n",
    "\n"
   ]
  },
  {
   "cell_type": "code",
   "execution_count": 2,
   "id": "636dfdff",
   "metadata": {},
   "outputs": [
    {
     "name": "stderr",
     "output_type": "stream",
     "text": [
      "2022-06-19 10:22:53.732508: I tensorflow/stream_executor/cuda/cuda_dnn.cc:368] Loaded cuDNN version 8401\n",
      "2022-06-19 10:22:54.666546: I tensorflow/core/platform/default/subprocess.cc:304] Start cannot spawn child process: No such file or directory\n",
      "2022-06-19 10:22:54.667347: I tensorflow/core/platform/default/subprocess.cc:304] Start cannot spawn child process: No such file or directory\n",
      "2022-06-19 10:22:54.667361: W tensorflow/stream_executor/gpu/asm_compiler.cc:80] Couldn't get ptxas version string: INTERNAL: Couldn't invoke ptxas --version\n",
      "2022-06-19 10:22:54.668259: I tensorflow/core/platform/default/subprocess.cc:304] Start cannot spawn child process: No such file or directory\n",
      "2022-06-19 10:22:54.668301: W tensorflow/stream_executor/gpu/redzone_allocator.cc:314] INTERNAL: Failed to launch ptxas\n",
      "Relying on driver to perform ptx compilation. \n",
      "Modify $PATH to customize ptxas location.\n",
      "This message will be only logged once.\n"
     ]
    }
   ],
   "source": [
    "#line_img_array=segment_into_lines('../../test_data/test_image2.jpeg')\n",
    "line_img_array=segment_into_lines('../../test_data/test_image.jpeg')\n",
    "#line_img_array=segment_into_lines('../../test_data/76.JPG')\n",
    "\n",
    "full_index_indicator=[]\n",
    "all_words_list=[]\n",
    "\n",
    "len_line_arr=0"
   ]
  },
  {
   "cell_type": "code",
   "execution_count": 3,
   "id": "38ab01ed",
   "metadata": {},
   "outputs": [],
   "source": [
    "for idx,im in enumerate(line_img_array):\n",
    "    line_indicator,word_array=segment_into_words(im,idx)\n",
    "    for k in range(len(word_array)):\n",
    "        full_index_indicator.append(line_indicator[k])\n",
    "        all_words_list.append(word_array[k])   \n",
    "        \n",
    "    len_line_arr+=1\n",
    "    \n",
    "\n",
    "all_words_list=np.array(all_words_list)\n",
    "\n",
    "\n"
   ]
  },
  {
   "cell_type": "code",
   "execution_count": 4,
   "id": "bd730d5c",
   "metadata": {},
   "outputs": [
    {
     "name": "stderr",
     "output_type": "stream",
     "text": [
      "2022-06-19 10:22:59.599967: I tensorflow/stream_executor/cuda/cuda_blas.cc:1786] TensorFloat-32 will be used for the matrix multiplication. This will only be logged once.\n"
     ]
    },
    {
     "name": "stdout",
     "output_type": "stream",
     "text": [
      "Region of interest pooIing expIained\n",
      "Fei ruan 28. 2047 .Datascience,Deej teamninq Machine ieamina .bvTomaszGre\n",
      "Region ofinterestpooIing.taIso known as RoI pooIingjis an operation wideIv used\n",
      "in object detection tasks using.convoIutional neuraI networks. For exampIe, to detect\n",
      "muItipIe cars and pedestrians in asingIe image Its purpose is to perform max pooIing\n",
      "on inouts of nonuniform sizes to obtain fixed.size feature maos te.g. 7x7j.\n",
      "Weve iust reIeased an open.source impIementation ofRoI pooIing Iaver for TensorFIow\n",
      "tyoucan findithgrgj inthis oost, weregoingtosay afew words aboutthis interestingneuraI\n",
      "network Iaver. But first, Iets start with some background.\n",
      "Two maior tasks in computer vision are obiect cIassificatior and obiect detection. In the first\n"
     ]
    }
   ],
   "source": [
    "recognize_words(full_index_indicator,all_words_list/255.,len_line_arr)"
   ]
  }
 ],
 "metadata": {
  "kernelspec": {
   "display_name": "Python 3 (ipykernel)",
   "language": "python",
   "name": "python3"
  },
  "language_info": {
   "codemirror_mode": {
    "name": "ipython",
    "version": 3
   },
   "file_extension": ".py",
   "mimetype": "text/x-python",
   "name": "python",
   "nbconvert_exporter": "python",
   "pygments_lexer": "ipython3",
   "version": "3.8.10"
  }
 },
 "nbformat": 4,
 "nbformat_minor": 5
}

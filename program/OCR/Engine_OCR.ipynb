{
 "cells": [
  {
   "cell_type": "code",
   "execution_count": 1,
   "id": "b873a91c",
   "metadata": {},
   "outputs": [
    {
     "name": "stderr",
     "output_type": "stream",
     "text": [
      "2022-06-18 12:53:02.560890: I tensorflow/stream_executor/cuda/cuda_gpu_executor.cc:936] successful NUMA node read from SysFS had negative value (-1), but there must be at least one NUMA node, so returning NUMA node zero\n",
      "2022-06-18 12:53:02.588571: I tensorflow/stream_executor/cuda/cuda_gpu_executor.cc:936] successful NUMA node read from SysFS had negative value (-1), but there must be at least one NUMA node, so returning NUMA node zero\n",
      "2022-06-18 12:53:02.588770: I tensorflow/stream_executor/cuda/cuda_gpu_executor.cc:936] successful NUMA node read from SysFS had negative value (-1), but there must be at least one NUMA node, so returning NUMA node zero\n",
      "2022-06-18 12:53:02.589389: I tensorflow/core/platform/cpu_feature_guard.cc:151] This TensorFlow binary is optimized with oneAPI Deep Neural Network Library (oneDNN) to use the following CPU instructions in performance-critical operations:  AVX2 FMA\n",
      "To enable them in other operations, rebuild TensorFlow with the appropriate compiler flags.\n",
      "2022-06-18 12:53:02.617680: I tensorflow/stream_executor/cuda/cuda_gpu_executor.cc:936] successful NUMA node read from SysFS had negative value (-1), but there must be at least one NUMA node, so returning NUMA node zero\n",
      "2022-06-18 12:53:02.617914: I tensorflow/stream_executor/cuda/cuda_gpu_executor.cc:936] successful NUMA node read from SysFS had negative value (-1), but there must be at least one NUMA node, so returning NUMA node zero\n",
      "2022-06-18 12:53:02.618106: I tensorflow/stream_executor/cuda/cuda_gpu_executor.cc:936] successful NUMA node read from SysFS had negative value (-1), but there must be at least one NUMA node, so returning NUMA node zero\n",
      "2022-06-18 12:53:02.997471: I tensorflow/stream_executor/cuda/cuda_gpu_executor.cc:936] successful NUMA node read from SysFS had negative value (-1), but there must be at least one NUMA node, so returning NUMA node zero\n",
      "2022-06-18 12:53:02.997669: I tensorflow/stream_executor/cuda/cuda_gpu_executor.cc:936] successful NUMA node read from SysFS had negative value (-1), but there must be at least one NUMA node, so returning NUMA node zero\n",
      "2022-06-18 12:53:02.997798: I tensorflow/stream_executor/cuda/cuda_gpu_executor.cc:936] successful NUMA node read from SysFS had negative value (-1), but there must be at least one NUMA node, so returning NUMA node zero\n",
      "2022-06-18 12:53:02.997920: I tensorflow/core/common_runtime/gpu/gpu_device.cc:1525] Created device /job:localhost/replica:0/task:0/device:GPU:0 with 9563 MB memory:  -> device: 0, name: NVIDIA GeForce RTX 3060, pci bus id: 0000:0a:00.0, compute capability: 8.6\n",
      "/usr/local/lib/python3.8/dist-packages/keras/optimizer_v2/adam.py:105: UserWarning: The `lr` argument is deprecated, use `learning_rate` instead.\n",
      "  super(Adam, self).__init__(name, **kwargs)\n"
     ]
    }
   ],
   "source": [
    "import numpy as np\n",
    "import tensorflow as tf\n",
    "from SegmentPage import segment_into_lines\n",
    "from SegmentLine import segment_into_words\n",
    "from RecognizeWord import recognize_words\n",
    "\n"
   ]
  },
  {
   "cell_type": "code",
   "execution_count": 2,
   "id": "636dfdff",
   "metadata": {},
   "outputs": [
    {
     "name": "stderr",
     "output_type": "stream",
     "text": [
      "2022-06-18 12:53:05.027353: I tensorflow/stream_executor/cuda/cuda_dnn.cc:368] Loaded cuDNN version 8401\n",
      "2022-06-18 12:53:05.971187: I tensorflow/core/platform/default/subprocess.cc:304] Start cannot spawn child process: No such file or directory\n"
     ]
    }
   ],
   "source": [
    "\n",
    "\n",
    "\n",
    "#Open image and segment into lines\n",
    "line_img_array=segment_into_lines('test_image2.jpeg')\n",
    "\n",
    "\n",
    "#Creating lists to store the line indexes,words list.\n",
    "full_index_indicator=[]\n",
    "all_words_list=[]\n",
    "#Variable to count the total no of lines in page.\n",
    "len_line_arr=0\n",
    "\n"
   ]
  },
  {
   "cell_type": "code",
   "execution_count": 3,
   "id": "5c4b8e61",
   "metadata": {},
   "outputs": [
    {
     "name": "stdout",
     "output_type": "stream",
     "text": [
      "<class 'numpy.ndarray'>\n",
      "(44, 1041)\n"
     ]
    }
   ],
   "source": [
    "print(type(line_img_array[0]))\n",
    "print(line_img_array[2].shape)"
   ]
  },
  {
   "cell_type": "code",
   "execution_count": 4,
   "id": "b82195fa",
   "metadata": {},
   "outputs": [],
   "source": [
    "#print(line_img_array[0])"
   ]
  },
  {
   "cell_type": "code",
   "execution_count": 5,
   "id": "38ab01ed",
   "metadata": {},
   "outputs": [],
   "source": [
    "#Segment the lines into words and store as arrays.\n",
    "for idx,im in enumerate(line_img_array):\n",
    "    line_indicator,word_array=segment_into_words(im,idx)\n",
    "    for k in range(len(word_array)):\n",
    "        full_index_indicator.append(line_indicator[k])\n",
    "        all_words_list.append(word_array[k])   \n",
    "        \n",
    "    len_line_arr+=1\n",
    "    \n",
    "\n",
    "all_words_list=np.array(all_words_list)\n",
    "\n",
    "\n"
   ]
  },
  {
   "cell_type": "code",
   "execution_count": 6,
   "id": "cb875393",
   "metadata": {},
   "outputs": [
    {
     "name": "stdout",
     "output_type": "stream",
     "text": [
      "<class 'numpy.ndarray'>\n",
      "(32, 128, 1)\n"
     ]
    }
   ],
   "source": [
    "print(type(word_array[0]))\n",
    "print(word_array[0].shape)"
   ]
  },
  {
   "cell_type": "code",
   "execution_count": 7,
   "id": "54976115",
   "metadata": {},
   "outputs": [],
   "source": [
    "#print(word_array[0])"
   ]
  },
  {
   "cell_type": "code",
   "execution_count": 8,
   "id": "bd730d5c",
   "metadata": {},
   "outputs": [
    {
     "name": "stderr",
     "output_type": "stream",
     "text": [
      "2022-06-18 12:53:12.610812: I tensorflow/stream_executor/cuda/cuda_blas.cc:1786] TensorFloat-32 will be used for the matrix multiplication. This will only be logged once.\n"
     ]
    },
    {
     "name": "stdout",
     "output_type": "stream",
     "text": [
      "St Bertrandde Comminges is a decaved town on the\n",
      " spurs ofthePyrenees?notvery far from Toulouse? and\n",
      "stillnearerto Bagneresde4Luchon Itwas the site ofa\n",
      "bishopric until the Revolution? and has a cathedral\n",
      "which is visitedby acertainnumber oftourists In the\n",
      " t5mgcH8g?nBo5bmu5mvwdu this oldeworld\n",
      " place L I can hardlv dignifv it with the name of city?\n",
      "for there are not a thousand inhabitants. He was a\n",
      "Cambridge man? who hadcome speciallv from Tou.\n",
      "louse to see St Bertrands Church. andhad left two\n",
      "friends. who wereless keen archaeologists than him.\n",
      "self? in theirhote1atToulouee. underpromiseto ioin\n",
      "him on the following morning. Half an hour at the\n",
      "church would satisfy the? and all three could then\n",
      " pursue their journev inthe directionofAuch Butour\n",
      "Englishman had come earlv on the dav in auestion.\n",
      " andproposed to himselfto fill a notebook and to use\n",
      "several dozens of plates in the process ofdescribing\n",
      " and photographing everv corner of the wonderful\n",
      " church that dominates theIirtchillofCommingcs In\n",
      "order to carrv out this design satisfactorily? it was\n",
      "necessary to monopolise the verger ofthe church for\n",
      "the dav. .The verger or sacristan I prefer the latter\n",
      "appellation? inaccurate as it maybe?was accordingly\n",
      "sent for bv the somewhat brusaue ladv who keeps the\n",
      "inn of the Chapeau Rouge? and when he came? the\n",
      "Englishman found him an unexpectedly interesting\n",
      "obiect ofstudy. It was not in thepersonal appearance\n",
      " ofthe little?dry? wizcnedoldmanthat the interest lay?\n"
     ]
    }
   ],
   "source": [
    "#Perform the recognition on list of list of words.\n",
    "recognize_words(full_index_indicator,all_words_list/255.,len_line_arr)"
   ]
  },
  {
   "cell_type": "code",
   "execution_count": 9,
   "id": "3cc8eb56",
   "metadata": {},
   "outputs": [],
   "source": [
    "#Perform the recognition on list of list of words.\n",
    "#recognize_words(full_index_indicator,all_words_list,len_line_arr)"
   ]
  },
  {
   "cell_type": "code",
   "execution_count": null,
   "id": "db1c476b",
   "metadata": {},
   "outputs": [],
   "source": []
  }
 ],
 "metadata": {
  "kernelspec": {
   "display_name": "Python 3 (ipykernel)",
   "language": "python",
   "name": "python3"
  },
  "language_info": {
   "codemirror_mode": {
    "name": "ipython",
    "version": 3
   },
   "file_extension": ".py",
   "mimetype": "text/x-python",
   "name": "python",
   "nbconvert_exporter": "python",
   "pygments_lexer": "ipython3",
   "version": "3.8.10"
  }
 },
 "nbformat": 4,
 "nbformat_minor": 5
}

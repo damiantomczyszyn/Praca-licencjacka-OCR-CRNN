{
 "cells": [
  {
   "cell_type": "code",
   "execution_count": 1,
   "metadata": {
    "colab": {
     "base_uri": "https://localhost:8080/"
    },
    "id": "MHeCbNaoaunS",
    "outputId": "f0cc8bdc-4dd3-456b-ede1-95f7b637a397"
   },
   "outputs": [],
   "source": [
    "#!gdown --id 155wulmctFNkAMYFp770XLCWm1FcYEsfy"
   ]
  },
  {
   "cell_type": "code",
   "execution_count": 2,
   "metadata": {
    "colab": {
     "base_uri": "https://localhost:8080/"
    },
    "id": "nedi4GidAGcE",
    "outputId": "c0f8310f-90fc-4b55-99c9-db13907b5752"
   },
   "outputs": [],
   "source": [
    "#!mkdir content\n",
    "#!unzip WordSegData2 -d content/"
   ]
  },
  {
   "cell_type": "code",
   "execution_count": 8,
   "metadata": {
    "colab": {
     "base_uri": "https://localhost:8080/"
    },
    "id": "YIsSOBLfYyt0",
    "outputId": "46ea60f6-0ffc-43c5-a6a8-538bd7373778"
   },
   "outputs": [],
   "source": [
    "#Importing required libraries.\n",
    "import numpy as np\n",
    "import matplotlib.pyplot as plt\n",
    "import cv2\n",
    "import os\n",
    "import tensorflow as tf\n",
    "#from tensorflow.keras.layers import Conv2D,MaxPooling2D,Activation,Conv2DTranspose,Input,Add,UpSampling2D,Dropout,concatenate\n",
    "from keras.layers import *\n",
    "from keras.models import Model\n",
    "from tensorflow.keras.optimizers import Adam\n",
    "import random\n",
    "import math\n",
    "\n",
    "image_list=os.listdir('content/Dataset1/img/')\n",
    "image_list=[filename.split(\".\")[0]for filename in image_list]\n",
    "\n",
    "def visualize(img,seg_img):\n",
    "    \"\"\"\n",
    "    Visualizes image\n",
    "    \"\"\"\n",
    "    plt.figure(figsize=(20,20))\n",
    "    plt.subplot(1,2,1)\n",
    "    plt.imshow(img)\n",
    "    plt.title('Image')\n",
    "    plt.subplot(1,2,2)\n",
    "    plt.imshow(seg_img,cmap='gray')\n",
    "    plt.title('Segmented Image')\n",
    "    plt.show()\n",
    "\n",
    "def roundup(x):\n",
    "    return int(math.ceil(x / 10.0)) * 10\n",
    "    \n",
    "def get_segmented_img(img,n_classes):\n",
    "    \"\"\"\n",
    "    Loads in the segmented image and create suitable segmentation label.\n",
    "    \"\"\"\n",
    "    seg_labels=np.zeros((512,512,1))\n",
    "    img=cv2.resize(img,(512,512))\n",
    "    img=img[:,:,0]\n",
    "    cl_list=[0,24]\n",
    "\n",
    "    \n",
    "    seg_labels[:,:,0]=(img!=0).astype(int)\n",
    "\n",
    "\n",
    "    return seg_labels\n",
    "def pad_img(img):\n",
    "\told_h,old_w=img.shape[0],img.shape[1]\n",
    "\n",
    "\t#Pad the height.\n",
    "\n",
    "\t#If height is less than 512 then pad to 512\n",
    "\tif old_h<512:\n",
    "\t\tto_pad=np.ones((512-old_h,old_w))*255\n",
    "\t\timg=np.concatenate((img,to_pad))\n",
    "\t\tnew_height=512\n",
    "\telse:\n",
    "\t#If height >512 then pad to nearest 10.\n",
    "\t\tto_pad=np.ones((roundup(old_h)-old_h,old_w))*255\n",
    "\t\timg=np.concatenate((img,to_pad))\n",
    "\t\tnew_height=roundup(old_h)\n",
    "\n",
    "\t#Pad the width.\n",
    "\tif old_w<512:\n",
    "\t\tto_pad=np.ones((new_height,512-old_w))*255\n",
    "\t\timg=np.concatenate((img,to_pad),axis=1)\n",
    "\t\tnew_width=512\n",
    "\telse:\n",
    "\t\tto_pad=np.ones((new_height,roundup(old_w)-old_w))*255\n",
    "\t\timg=np.concatenate((img,to_pad),axis=1)\n",
    "\t\tnew_width=roundup(old_w)-old_w\n",
    "\treturn img\n",
    "\n",
    "\n",
    "def pad_seg(img):\n",
    "\told_h,old_w=img.shape[0],img.shape[1]\n",
    "\n",
    "\t#Pad the height.\n",
    "\n",
    "\t#If height is less than 512 then pad to 512\n",
    "\tif old_h<512:\n",
    "\t\tto_pad=np.zeros((512-old_h,old_w))\n",
    "\t\timg=np.concatenate((img,to_pad))\n",
    "\t\tnew_height=512\n",
    "\telse:\n",
    "\t#If height >512 then pad to nearest 10.\n",
    "\t\tto_pad=np.zeros((roundup(old_h)-old_h,old_w))\n",
    "\t\timg=np.concatenate((img,to_pad))\n",
    "\t\tnew_height=roundup(old_h)\n",
    "\n",
    "\t#Pad the width.\n",
    "\tif old_w<512:\n",
    "\t\tto_pad=np.zeros((new_height,512-old_w))\n",
    "\t\timg=np.concatenate((img,to_pad),axis=1)\n",
    "\t\tnew_width=512\n",
    "\telse:\n",
    "\t\tto_pad=np.zeros((new_height,roundup(old_w)-old_w))\n",
    "\t\timg=np.concatenate((img,to_pad),axis=1)\n",
    "\t\tnew_width=roundup(old_w)-old_w\n",
    "\treturn img\n",
    "\n",
    "\n",
    "\n",
    "def batch_generator(filelist,n_classes,batch_size):\n",
    "  while True:\n",
    "    X=[]\n",
    "    Y=[]\n",
    "    for i in range(batch_size):\n",
    "      fn=random.choice(filelist)\n",
    "      img=cv2.imread(f'content/Dataset1/img/{fn}.jpg',0)\n",
    "      img=pad_img(img)\n",
    "      ret,img=cv2.threshold(img,150,255,cv2.THRESH_BINARY_INV)\n",
    "      \n",
    "\n",
    "      img=cv2.resize(img,(512,512))\n",
    "      img=np.expand_dims(img,axis=-1)\n",
    "      #img = np.stack((img,)*3, axis=-1)\n",
    "      img=img/255\n",
    "\n",
    "      seg=cv2.imread(f'content/Dataset1/mask/{fn}_mask.png',0)\n",
    "      seg=pad_seg(seg)\n",
    "      seg=cv2.resize(seg,(512,512))\n",
    "      seg = np.stack((seg,)*3, axis=-1)\n",
    "      seg=get_segmented_img(seg,n_classes)\n",
    "\n",
    "      X.append(img)\n",
    "      Y.append(seg)\n",
    "    yield np.array(X),np.array(Y)\n",
    "\n",
    "\n",
    "    \n",
    "\n",
    "\n"
   ]
  },
  {
   "cell_type": "code",
   "execution_count": 9,
   "metadata": {
    "id": "nnpYHTJWYyuI"
   },
   "outputs": [],
   "source": [
    "random.shuffle(image_list)\n",
    "file_train=image_list[0:int(0.75*len(image_list))]\n",
    "file_test=image_list[int(0.75*len(image_list)):]\n",
    "\n"
   ]
  },
  {
   "cell_type": "code",
   "execution_count": 10,
   "metadata": {
    "colab": {
     "base_uri": "https://localhost:8080/"
    },
    "id": "vAAxwqILKDrx",
    "outputId": "aea33d32-e590-4158-ed7c-a9ec74cb6878"
   },
   "outputs": [
    {
     "name": "stdout",
     "output_type": "stream",
     "text": [
      "Model: \"model_1\"\n",
      "__________________________________________________________________________________________________\n",
      " Layer (type)                   Output Shape         Param #     Connected to                     \n",
      "==================================================================================================\n",
      " input_2 (InputLayer)           [(None, 512, 512, 1  0           []                               \n",
      "                                )]                                                                \n",
      "                                                                                                  \n",
      " conv2d_24 (Conv2D)             (None, 512, 512, 64  640         ['input_2[0][0]']                \n",
      "                                )                                                                 \n",
      "                                                                                                  \n",
      " conv2d_25 (Conv2D)             (None, 512, 512, 64  36928       ['conv2d_24[0][0]']              \n",
      "                                )                                                                 \n",
      "                                                                                                  \n",
      " max_pooling2d_4 (MaxPooling2D)  (None, 256, 256, 64  0          ['conv2d_25[0][0]']              \n",
      "                                )                                                                 \n",
      "                                                                                                  \n",
      " conv2d_26 (Conv2D)             (None, 256, 256, 12  73856       ['max_pooling2d_4[0][0]']        \n",
      "                                8)                                                                \n",
      "                                                                                                  \n",
      " conv2d_27 (Conv2D)             (None, 256, 256, 12  147584      ['conv2d_26[0][0]']              \n",
      "                                8)                                                                \n",
      "                                                                                                  \n",
      " max_pooling2d_5 (MaxPooling2D)  (None, 128, 128, 12  0          ['conv2d_27[0][0]']              \n",
      "                                8)                                                                \n",
      "                                                                                                  \n",
      " conv2d_28 (Conv2D)             (None, 128, 128, 25  295168      ['max_pooling2d_5[0][0]']        \n",
      "                                6)                                                                \n",
      "                                                                                                  \n",
      " conv2d_29 (Conv2D)             (None, 128, 128, 25  590080      ['conv2d_28[0][0]']              \n",
      "                                6)                                                                \n",
      "                                                                                                  \n",
      " max_pooling2d_6 (MaxPooling2D)  (None, 64, 64, 256)  0          ['conv2d_29[0][0]']              \n",
      "                                                                                                  \n",
      " conv2d_30 (Conv2D)             (None, 64, 64, 512)  1180160     ['max_pooling2d_6[0][0]']        \n",
      "                                                                                                  \n",
      " conv2d_31 (Conv2D)             (None, 64, 64, 512)  2359808     ['conv2d_30[0][0]']              \n",
      "                                                                                                  \n",
      " dropout_2 (Dropout)            (None, 64, 64, 512)  0           ['conv2d_31[0][0]']              \n",
      "                                                                                                  \n",
      " max_pooling2d_7 (MaxPooling2D)  (None, 32, 32, 512)  0          ['dropout_2[0][0]']              \n",
      "                                                                                                  \n",
      " conv2d_32 (Conv2D)             (None, 32, 32, 1024  4719616     ['max_pooling2d_7[0][0]']        \n",
      "                                )                                                                 \n",
      "                                                                                                  \n",
      " conv2d_33 (Conv2D)             (None, 32, 32, 1024  9438208     ['conv2d_32[0][0]']              \n",
      "                                )                                                                 \n",
      "                                                                                                  \n",
      " dropout_3 (Dropout)            (None, 32, 32, 1024  0           ['conv2d_33[0][0]']              \n",
      "                                )                                                                 \n",
      "                                                                                                  \n",
      " up_sampling2d_4 (UpSampling2D)  (None, 64, 64, 1024  0          ['dropout_3[0][0]']              \n",
      "                                )                                                                 \n",
      "                                                                                                  \n",
      " conv2d_34 (Conv2D)             (None, 64, 64, 512)  2097664     ['up_sampling2d_4[0][0]']        \n",
      "                                                                                                  \n",
      " concatenate_4 (Concatenate)    (None, 64, 64, 1024  0           ['dropout_2[0][0]',              \n",
      "                                )                                 'conv2d_34[0][0]']              \n",
      "                                                                                                  \n",
      " conv2d_35 (Conv2D)             (None, 64, 64, 512)  4719104     ['concatenate_4[0][0]']          \n",
      "                                                                                                  \n",
      " conv2d_36 (Conv2D)             (None, 64, 64, 512)  2359808     ['conv2d_35[0][0]']              \n",
      "                                                                                                  \n",
      " up_sampling2d_5 (UpSampling2D)  (None, 128, 128, 51  0          ['conv2d_36[0][0]']              \n",
      "                                2)                                                                \n",
      "                                                                                                  \n",
      " conv2d_37 (Conv2D)             (None, 128, 128, 25  524544      ['up_sampling2d_5[0][0]']        \n",
      "                                6)                                                                \n",
      "                                                                                                  \n",
      " concatenate_5 (Concatenate)    (None, 128, 128, 51  0           ['conv2d_29[0][0]',              \n",
      "                                2)                                'conv2d_37[0][0]']              \n",
      "                                                                                                  \n",
      " conv2d_38 (Conv2D)             (None, 128, 128, 25  1179904     ['concatenate_5[0][0]']          \n",
      "                                6)                                                                \n",
      "                                                                                                  \n",
      " conv2d_39 (Conv2D)             (None, 128, 128, 25  590080      ['conv2d_38[0][0]']              \n",
      "                                6)                                                                \n",
      "                                                                                                  \n",
      " up_sampling2d_6 (UpSampling2D)  (None, 256, 256, 25  0          ['conv2d_39[0][0]']              \n",
      "                                6)                                                                \n",
      "                                                                                                  \n",
      " conv2d_40 (Conv2D)             (None, 256, 256, 12  131200      ['up_sampling2d_6[0][0]']        \n",
      "                                8)                                                                \n",
      "                                                                                                  \n",
      " concatenate_6 (Concatenate)    (None, 256, 256, 25  0           ['conv2d_27[0][0]',              \n"
     ]
    },
    {
     "name": "stdout",
     "output_type": "stream",
     "text": [
      "                                6)                                'conv2d_40[0][0]']              \n",
      "                                                                                                  \n",
      " conv2d_41 (Conv2D)             (None, 256, 256, 12  295040      ['concatenate_6[0][0]']          \n",
      "                                8)                                                                \n",
      "                                                                                                  \n",
      " conv2d_42 (Conv2D)             (None, 256, 256, 12  147584      ['conv2d_41[0][0]']              \n",
      "                                8)                                                                \n",
      "                                                                                                  \n",
      " up_sampling2d_7 (UpSampling2D)  (None, 512, 512, 12  0          ['conv2d_42[0][0]']              \n",
      "                                8)                                                                \n",
      "                                                                                                  \n",
      " conv2d_43 (Conv2D)             (None, 512, 512, 64  32832       ['up_sampling2d_7[0][0]']        \n",
      "                                )                                                                 \n",
      "                                                                                                  \n",
      " concatenate_7 (Concatenate)    (None, 512, 512, 12  0           ['conv2d_25[0][0]',              \n",
      "                                8)                                'conv2d_43[0][0]']              \n",
      "                                                                                                  \n",
      " conv2d_44 (Conv2D)             (None, 512, 512, 64  73792       ['concatenate_7[0][0]']          \n",
      "                                )                                                                 \n",
      "                                                                                                  \n",
      " conv2d_45 (Conv2D)             (None, 512, 512, 64  36928       ['conv2d_44[0][0]']              \n",
      "                                )                                                                 \n",
      "                                                                                                  \n",
      " conv2d_46 (Conv2D)             (None, 512, 512, 2)  1154        ['conv2d_45[0][0]']              \n",
      "                                                                                                  \n",
      " conv2d_47 (Conv2D)             (None, 512, 512, 1)  3           ['conv2d_46[0][0]']              \n",
      "                                                                                                  \n",
      "==================================================================================================\n",
      "Total params: 31,031,685\n",
      "Trainable params: 31,031,685\n",
      "Non-trainable params: 0\n",
      "__________________________________________________________________________________________________\n"
     ]
    }
   ],
   "source": [
    "def unet(pretrained_weights = None,input_size = (512,512,1)):\n",
    "    inputs = Input(input_size)\n",
    "    conv1 = Conv2D(64, 3, activation = 'relu', padding = 'same', kernel_initializer = 'he_normal')(inputs)\n",
    "    conv1 = Conv2D(64, 3, activation = 'relu', padding = 'same', kernel_initializer = 'he_normal')(conv1)\n",
    "    pool1 = MaxPooling2D(pool_size=(2, 2))(conv1)\n",
    "    conv2 = Conv2D(128, 3, activation = 'relu', padding = 'same', kernel_initializer = 'he_normal')(pool1)\n",
    "    conv2 = Conv2D(128, 3, activation = 'relu', padding = 'same', kernel_initializer = 'he_normal')(conv2)\n",
    "    pool2 = MaxPooling2D(pool_size=(2, 2))(conv2)\n",
    "    conv3 = Conv2D(256, 3, activation = 'relu', padding = 'same', kernel_initializer = 'he_normal')(pool2)\n",
    "    conv3 = Conv2D(256, 3, activation = 'relu', padding = 'same', kernel_initializer = 'he_normal')(conv3)\n",
    "    pool3 = MaxPooling2D(pool_size=(2, 2))(conv3)\n",
    "    conv4 = Conv2D(512, 3, activation = 'relu', padding = 'same', kernel_initializer = 'he_normal')(pool3)\n",
    "    conv4 = Conv2D(512, 3, activation = 'relu', padding = 'same', kernel_initializer = 'he_normal')(conv4)\n",
    "    drop4 = Dropout(0.5)(conv4)\n",
    "    pool4 = MaxPooling2D(pool_size=(2, 2))(drop4)\n",
    "\n",
    "    conv5 = Conv2D(1024, 3, activation = 'relu', padding = 'same', kernel_initializer = 'he_normal')(pool4)\n",
    "    conv5 = Conv2D(1024, 3, activation = 'relu', padding = 'same', kernel_initializer = 'he_normal')(conv5)\n",
    "    drop5 = Dropout(0.5)(conv5)\n",
    "\n",
    "    up6 = Conv2D(512, 2, activation = 'relu', padding = 'same', kernel_initializer = 'he_normal')(UpSampling2D(size = (2,2))(drop5))\n",
    "    merge6 = concatenate([drop4,up6], axis = 3)\n",
    "    conv6 = Conv2D(512, 3, activation = 'relu', padding = 'same', kernel_initializer = 'he_normal')(merge6)\n",
    "    conv6 = Conv2D(512, 3, activation = 'relu', padding = 'same', kernel_initializer = 'he_normal')(conv6)\n",
    "\n",
    "    up7 = Conv2D(256, 2, activation = 'relu', padding = 'same', kernel_initializer = 'he_normal')(UpSampling2D(size = (2,2))(conv6))\n",
    "    merge7 = concatenate([conv3,up7], axis = 3)\n",
    "    conv7 = Conv2D(256, 3, activation = 'relu', padding = 'same', kernel_initializer = 'he_normal')(merge7)\n",
    "    conv7 = Conv2D(256, 3, activation = 'relu', padding = 'same', kernel_initializer = 'he_normal')(conv7)\n",
    "\n",
    "    up8 = Conv2D(128, 2, activation = 'relu', padding = 'same', kernel_initializer = 'he_normal')(UpSampling2D(size = (2,2))(conv7))\n",
    "    merge8 = concatenate([conv2,up8], axis = 3)\n",
    "    conv8 = Conv2D(128, 3, activation = 'relu', padding = 'same', kernel_initializer = 'he_normal')(merge8)\n",
    "    conv8 = Conv2D(128, 3, activation = 'relu', padding = 'same', kernel_initializer = 'he_normal')(conv8)\n",
    "\n",
    "    up9 = Conv2D(64, 2, activation = 'relu', padding = 'same', kernel_initializer = 'he_normal')(UpSampling2D(size = (2,2))(conv8))\n",
    "    merge9 = concatenate([conv1,up9], axis = 3)\n",
    "    conv9 = Conv2D(64, 3, activation = 'relu', padding = 'same', kernel_initializer = 'he_normal')(merge9)\n",
    "    conv9 = Conv2D(64, 3, activation = 'relu', padding = 'same', kernel_initializer = 'he_normal')(conv9)\n",
    "    conv9 = Conv2D(2, 3, activation = 'relu', padding = 'same', kernel_initializer = 'he_normal')(conv9)\n",
    "    conv10 = Conv2D(1, 1, activation = 'sigmoid')(conv9)\n",
    "\n",
    "    model = Model(inputs,conv10)\n",
    "\n",
    "    model.compile(optimizer = Adam(lr = 1e-4), loss = 'binary_crossentropy', metrics = ['accuracy'])\n",
    "    \n",
    "    #model.summary()\n",
    "\n",
    "    if(pretrained_weights):\n",
    "    \tmodel.load_weights(pretrained_weights)\n",
    "\n",
    "    return model\n",
    "\n",
    "model=unet()\n",
    "model.summary()\n",
    "\n"
   ]
  },
  {
   "cell_type": "code",
   "execution_count": 11,
   "metadata": {
    "colab": {
     "base_uri": "https://localhost:8080/",
     "height": 35
    },
    "id": "68fb0gZpQX29",
    "outputId": "987c34ed-1b32-4e23-8588-9f06c8551c86"
   },
   "outputs": [
    {
     "data": {
      "text/plain": [
       "'lineI16'"
      ]
     },
     "execution_count": 11,
     "metadata": {},
     "output_type": "execute_result"
    }
   ],
   "source": [
    "image_list[0]"
   ]
  },
  {
   "cell_type": "code",
   "execution_count": 12,
   "metadata": {
    "colab": {
     "base_uri": "https://localhost:8080/",
     "height": 83
    },
    "id": "bAzZUMoRYyt9",
    "outputId": "270b5833-23c4-4328-ce9b-13e3179c6045"
   },
   "outputs": [
    {
     "data": {
      "image/png": "[encoded data removed]",
      "text/plain": [
       "<Figure size 1440x1440 with 2 Axes>"
      ]
     },
     "metadata": {
      "needs_background": "light"
     },
     "output_type": "display_data"
    }
   ],
   "source": [
    "img=cv2.imread('content/Dataset1/img/'+image_list[0]+'.jpg',1)\n",
    "seg=cv2.imread('content/Dataset1/mask/'+image_list[0]+'_mask.png',1)\n",
    "\n",
    "visualize(img,seg)\n"
   ]
  },
  {
   "cell_type": "code",
   "execution_count": 13,
   "metadata": {
    "colab": {
     "base_uri": "https://localhost:8080/",
     "height": 286
    },
    "id": "PGmooTzpDTYz",
    "outputId": "8016afc2-b8ad-432d-d25a-3e110ddb2720"
   },
   "outputs": [
    {
     "data": {
      "text/plain": [
       "<matplotlib.image.AxesImage at 0x7f2b1c792100>"
      ]
     },
     "execution_count": 13,
     "metadata": {},
     "output_type": "execute_result"
    },
    {
     "data": {
      "image/png": "[encoded data removed]",
      "text/plain": [
       "<Figure size 432x288 with 1 Axes>"
      ]
     },
     "metadata": {
      "needs_background": "light"
     },
     "output_type": "display_data"
    }
   ],
   "source": [
    "img,seg=next(batch_generator(file_test,2,1))\n",
    "plt.imshow(np.squeeze(seg[:,:,:,0],axis=0),cmap='gray')\n"
   ]
  },
  {
   "cell_type": "code",
   "execution_count": 14,
   "metadata": {
    "colab": {
     "base_uri": "https://localhost:8080/"
    },
    "id": "UK2wl_KFiGeq",
    "outputId": "c1c5bfd4-5397-4be1-8a0b-bec792c13517"
   },
   "outputs": [
    {
     "name": "stdout",
     "output_type": "stream",
     "text": [
      "WARNING:tensorflow:`period` argument is deprecated. Please use `save_freq` to specify the frequency in number of batches seen.\n",
      "Epoch 1/10\n"
     ]
    },
    {
     "name": "stderr",
     "output_type": "stream",
     "text": [
      "/tmp/ipykernel_95686/4223598510.py:4: UserWarning: `Model.fit_generator` is deprecated and will be removed in a future version. Please use `Model.fit`, which supports generators.\n",
      "  history=model.fit_generator(batch_generator(file_train,2,2),epochs=10,steps_per_epoch=1000,validation_data=batch_generator(file_test,2,2),\n",
      "2022-06-16 11:46:16.056296: I tensorflow/stream_executor/cuda/cuda_dnn.cc:368] Loaded cuDNN version 8401\n",
      "2022-06-16 11:46:16.982704: I tensorflow/core/platform/default/subprocess.cc:304] Start cannot spawn child process: No such file or directory\n"
     ]
    },
    {
     "name": "stdout",
     "output_type": "stream",
     "text": [
      "1000/1000 [==============================] - 387s 378ms/step - loss: 0.0328 - accuracy: 0.9896 - val_loss: 0.0227 - val_accuracy: 0.9964\n",
      "Epoch 2/10\n",
      "1000/1000 [==============================] - 377s 377ms/step - loss: 0.0210 - accuracy: 0.9971 - val_loss: 0.0216 - val_accuracy: 0.9968\n",
      "Epoch 3/10\n",
      "1000/1000 [==============================] - 377s 377ms/step - loss: 0.0204 - accuracy: 0.9972 - val_loss: 0.0202 - val_accuracy: 0.9975\n",
      "Epoch 4/10\n",
      "1000/1000 [==============================] - 376s 377ms/step - loss: 0.0194 - accuracy: 0.9974 - val_loss: 0.0189 - val_accuracy: 0.9975\n",
      "Epoch 5/10\n",
      "1000/1000 [==============================] - 384s 384ms/step - loss: 0.0187 - accuracy: 0.9974 - val_loss: 0.0179 - val_accuracy: 0.9976\n",
      "Epoch 6/10\n",
      "1000/1000 [==============================] - 400s 400ms/step - loss: 0.0174 - accuracy: 0.9975 - val_loss: 0.0174 - val_accuracy: 0.9975\n",
      "Epoch 7/10\n",
      "1000/1000 [==============================] - 402s 402ms/step - loss: 0.0166 - accuracy: 0.9976 - val_loss: 0.0168 - val_accuracy: 0.9975\n",
      "Epoch 8/10\n",
      "1000/1000 [==============================] - 412s 412ms/step - loss: 0.0163 - accuracy: 0.9977 - val_loss: 0.0161 - val_accuracy: 0.9973\n",
      "Epoch 9/10\n",
      "1000/1000 [==============================] - 418s 418ms/step - loss: 0.0156 - accuracy: 0.9975 - val_loss: 0.0149 - val_accuracy: 0.9976\n",
      "Epoch 10/10\n",
      "1000/1000 [==============================] - 423s 423ms/step - loss: 0.0146 - accuracy: 0.9978 - val_loss: 0.0143 - val_accuracy: 0.9976\n"
     ]
    }
   ],
   "source": [
    "from keras.callbacks import ModelCheckpoint\n",
    "mc = ModelCheckpoint('weights{epoch:08d}.h5', \n",
    "                                     save_weights_only=True, period=1)\n",
    "history=model.fit_generator(batch_generator(file_train,2,2),epochs=10,steps_per_epoch=1000,validation_data=batch_generator(file_test,2,2),\n",
    "                    validation_steps=400,callbacks=[mc],shuffle=1)\n"
   ]
  },
  {
   "cell_type": "code",
   "execution_count": 15,
   "metadata": {},
   "outputs": [
    {
     "data": {
      "text/plain": [
       "<function matplotlib.pyplot.show(close=None, block=None)>"
      ]
     },
     "execution_count": 15,
     "metadata": {},
     "output_type": "execute_result"
    },
    {
     "data": {
      "image/png": "[encoded data removed]",
      "text/plain": [
       "<Figure size 432x288 with 1 Axes>"
      ]
     },
     "metadata": {
      "needs_background": "light"
     },
     "output_type": "display_data"
    }
   ],
   "source": [
    "plt.plot(history.history['accuracy'])\n",
    "plt.plot(history.history['val_accuracy'])\n",
    "plt.title('Model accuracy')\n",
    "plt.ylabel('Accuracy')\n",
    "plt.xlabel('Epoch')\n",
    "plt.legend(['Train','Validation'], loc='upper left')\n",
    "plt.savefig('word_segmentation.png')\n",
    "plt.show"
   ]
  },
  {
   "cell_type": "code",
   "execution_count": 13,
   "metadata": {
    "id": "oyPHgQIEEyfv"
   },
   "outputs": [],
   "source": [
    "file_test='content/Dataset1/img/lineA1.jpg'\n",
    "img=cv2.imread(f'{file_test}',0)\n",
    "img=pad_img(img)\n",
    "ret,img=cv2.threshold(img,150,255,cv2.THRESH_BINARY_INV)\n",
    "img=cv2.resize(img,(512,512))\n",
    "img=np.expand_dims(img,axis=-1)\n",
    "#img = np.stack((img,)*3, axis=-1)\n",
    "img=img/255\n",
    "\n",
    "\n"
   ]
  },
  {
   "cell_type": "code",
   "execution_count": 14,
   "metadata": {
    "colab": {
     "base_uri": "https://localhost:8080/",
     "height": 286
    },
    "id": "D9PJsdleU9oY",
    "outputId": "496e8c46-58d5-478b-d05c-ba49bc4b70df"
   },
   "outputs": [
    {
     "data": {
      "text/plain": [
       "<matplotlib.image.AxesImage at 0x7f43cc41b4c0>"
      ]
     },
     "execution_count": 14,
     "metadata": {},
     "output_type": "execute_result"
    },
    {
     "data": {
      "image/png": "[encoded data removed]",
      "text/plain": [
       "<Figure size 432x288 with 1 Axes>"
      ]
     },
     "metadata": {
      "needs_background": "light"
     },
     "output_type": "display_data"
    }
   ],
   "source": [
    "img=np.expand_dims(img,axis=0)\n",
    "pred=model.predict(img)\n",
    "pred=np.squeeze(np.squeeze(pred,axis=0),axis=-1)\n",
    "plt.imshow(pred,cmap='gray')"
   ]
  },
  {
   "cell_type": "code",
   "execution_count": 15,
   "metadata": {
    "id": "QkfkUVPdbezF"
   },
   "outputs": [],
   "source": [
    "plt.imsave('test_img_mask.JPG',pred)"
   ]
  },
  {
   "cell_type": "code",
   "execution_count": 16,
   "metadata": {
    "id": "QJ8N-PZuY1si"
   },
   "outputs": [],
   "source": [
    "coordinates=[]"
   ]
  },
  {
   "cell_type": "code",
   "execution_count": 17,
   "metadata": {
    "colab": {
     "base_uri": "https://localhost:8080/"
    },
    "id": "V4KHhYQFbP8Q",
    "outputId": "37fe52d7-36b2-4453-d6d4-173ca0c65be0"
   },
   "outputs": [
    {
     "name": "stderr",
     "output_type": "stream",
     "text": [
      "[ WARN:0@2215.149] global /io/opencv/modules/imgcodecs/src/loadsave.cpp (239) findDecoder imread_('content/test_img_mask.JPG'): can't open/read file: check file path/integrity\n"
     ]
    },
    {
     "data": {
      "text/plain": [
       "True"
      ]
     },
     "execution_count": 17,
     "metadata": {},
     "output_type": "execute_result"
    }
   ],
   "source": [
    "import cv2\n",
    "img = cv2.imread('content/test_img_mask.JPG',0) \n",
    "cv2.threshold(img,0,255,cv2.THRESH_BINARY+cv2.THRESH_OTSU,img)\n",
    "ori_img=cv2.imread(f'{file_test}',0)\n",
    "ori_img=pad_img(ori_img)\n",
    "(H, W) = ori_img.shape[:2]\n",
    "(newW, newH) = (512, 512)\n",
    "rW = W / float(newW)\n",
    "rH = H / float(newH)\n",
    "ori_img_copy=np.stack((ori_img,)*3, axis=-1)\n",
    "\n",
    "contours, hier = cv2.findContours(img, cv2.RETR_EXTERNAL,cv2.CHAIN_APPROX_NONE)\n",
    "for c in contours:\n",
    "    # get the bounding rect\n",
    "    x, y, w, h = cv2.boundingRect(c)\n",
    "    # draw a white rectangle to visualize the bounding rect\n",
    "    cv2.rectangle(ori_img_copy, (int(x*rW), int(y*rH)), (int((x+w)*rW),int((y+h)*rH)), (255,0,0), 1)\n",
    "    #coordinates.append([x,y,(x+w),(y+h)])\n",
    "\n",
    "#cv2.drawContours(img, contours, -1, (255, 255, 0), 1)\n",
    "\n",
    "cv2.imwrite(\"output.png\",ori_img_copy)"
   ]
  },
  {
   "cell_type": "code",
   "execution_count": 18,
   "metadata": {
    "colab": {
     "base_uri": "https://localhost:8080/",
     "height": 121
    },
    "id": "2UAdnJcKDLTH",
    "outputId": "e845403f-2fe8-4104-a6cb-6a738073df1a"
   },
   "outputs": [],
   "source": [
    "#from google.colab import drive\n",
    "#drive.mount('content/gdrive/')"
   ]
  },
  {
   "cell_type": "code",
   "execution_count": null,
   "metadata": {},
   "outputs": [],
   "source": []
  }
 ],
 "metadata": {
  "accelerator": "GPU",
  "colab": {
   "collapsed_sections": [],
   "name": "Word_Segmentation_UNet_.ipynb",
   "provenance": []
  },
  "kernelspec": {
   "display_name": "Python 3 (ipykernel)",
   "language": "python",
   "name": "python3"
  },
  "language_info": {
   "codemirror_mode": {
    "name": "ipython",
    "version": 3
   },
   "file_extension": ".py",
   "mimetype": "text/x-python",
   "name": "python",
   "nbconvert_exporter": "python",
   "pygments_lexer": "ipython3",
   "version": "3.8.10"
  }
 },
 "nbformat": 4,
 "nbformat_minor": 1
}

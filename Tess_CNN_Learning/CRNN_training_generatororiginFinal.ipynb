{
 "cells": [
  {
   "cell_type": "markdown",
   "metadata": {
    "colab": {
     "base_uri": "https://localhost:8080/"
    },
    "id": "xq-IHfAQ15A7",
    "outputId": "0aa3ffed-b203-4ee3-c8c4-d7f491ddf8f0"
   },
   "source": [
    "!mkdir content/\n",
    "%cd content\n",
    "!git clone https://github.com/VikasOjha666/Data-generator-for-CRNN.git\n",
    "%cd Data-generator-for-CRNN\n",
    "!mkdir images/\n",
    "!python3 generate_data.py --n_samples 300000  "
   ]
  },
  {
   "cell_type": "code",
   "execution_count": 5,
   "metadata": {
    "colab": {
     "base_uri": "https://localhost:8080/"
    },
    "id": "UwcIFwjg4IN-",
    "outputId": "38b2035b-40ad-46b6-a809-e04096efc6b0"
   },
   "outputs": [],
   "source": [
    "import fnmatch\n",
    "import cv2\n",
    "import numpy as np\n",
    "import string\n",
    "import time\n",
    "import math\n",
    "\n",
    "from keras.preprocessing.sequence import pad_sequences\n",
    "from tensorflow.keras.utils import Sequence\n",
    "\n",
    "from keras.layers import Dense, LSTM, Reshape, BatchNormalization, Input, Conv2D, MaxPool2D, Lambda, Bidirectional, TimeDistributed\n",
    "from keras.models import Model\n",
    "from keras.activations import relu, sigmoid, softmax\n",
    "import keras.backend as K\n",
    "from tensorflow.keras.utils import to_categorical\n",
    "from keras.callbacks import ModelCheckpoint\n",
    "from keras.callbacks import EarlyStopping\n",
    "\n",
    "import os\n",
    "import tensorflow as tf\n",
    "import random\n",
    "import matplotlib.pyplot as plt\n",
    "from PIL import Image\n",
    "from sklearn.utils import shuffle\n",
    "from collections import defaultdict\n"
   ]
  },
  {
   "cell_type": "code",
   "execution_count": 6,
   "metadata": {
    "id": "oNmZv6iY4Loh"
   },
   "outputs": [],
   "source": [
    "#char_list = string.ascii_letters+string.digits\n",
    "\n",
    "punclist='.?:;\"'\n",
    "punclist2=\"-+/()[]!`,|*&^%$#@'\"\n",
    "final=\".,?\"\n",
    "#Character sets to choose from.\n",
    "smallletters=string.ascii_lowercase\n",
    "capitalletters=string.ascii_uppercase\n",
    "digits=string.digits\n",
    "char_list=smallletters+capitalletters+digits+final#punclist+punclist2\n",
    "\n",
    "chars = defaultdict(int)\n",
    " \n",
    "def encode_to_labels(txt):\n",
    "    # encoding each output word into digits\n",
    "    dig_lst = []\n",
    "    for index, char in enumerate(txt):\n",
    "        try:\n",
    "            dig_lst.append(char_list.index(char))\n",
    "        except:\n",
    "            print(char)\n",
    "        \n",
    "    return dig_lst\n",
    "\n",
    "def find_dominant_color(image):\n",
    "        #Resizing parameters\n",
    "        width, height = 150,150\n",
    "        image = image.resize((width, height),resample = 0)\n",
    "        #Get colors from image object\n",
    "        pixels = image.getcolors(width * height)\n",
    "        #Sort them by count number(first element of tuple)\n",
    "        sorted_pixels = sorted(pixels, key=lambda t: t[0])\n",
    "        #Get the most frequent color\n",
    "        dominant_color = sorted_pixels[-1][1]\n",
    "        return dominant_color\n",
    "\n",
    "def preprocess_img(img, imgSize):\n",
    "    \"put img into target img of size imgSize, transpose for TF and normalize gray-values\"\n",
    "\n",
    "    # there are damaged files in IAM dataset - just use black image instead\n",
    "    if img is None:\n",
    "        img = np.zeros([imgSize[1], imgSize[0]]) \n",
    "        print(\"Image None!\")\n",
    "\n",
    "    # create target image and copy sample image into it\n",
    "    (wt, ht) = imgSize\n",
    "    (h, w) = img.shape\n",
    "    fx = w / wt\n",
    "    fy = h / ht\n",
    "    f = max(fx, fy)\n",
    "    newSize = (max(min(wt, int(w / f)), 1),\n",
    "               max(min(ht, int(h / f)), 1))  # scale according to f (result at least 1 and at most wt or ht)\n",
    "    img = cv2.resize(img, newSize, interpolation=cv2.INTER_CUBIC) # INTER_CUBIC interpolation best approximate the pixels image\n",
    "                                                               # see this https://stackoverflow.com/a/57503843/7338066\n",
    "    most_freq_pixel=find_dominant_color(Image.fromarray(img))\n",
    "    target = np.ones([ht, wt]) * most_freq_pixel  \n",
    "    target[0:newSize[1], 0:newSize[0]] = img\n",
    "\n",
    "    img = target\n",
    "\n",
    "    return img\n",
    "\n",
    "def counting_characters(labels):\n",
    "    for label in labels:\n",
    "        for char in label:\n",
    "            chars[char] += 1\n",
    "    return chars\n",
    "\n",
    "\n"
   ]
  },
  {
   "cell_type": "code",
   "execution_count": 7,
   "metadata": {},
   "outputs": [
    {
     "name": "stdout",
     "output_type": "stream",
     "text": [
      "abcdefghijklmnopqrstuvwxyzABCDEFGHIJKLMNOPQRSTUVWXYZ0123456789.,?\n",
      "65\n"
     ]
    }
   ],
   "source": [
    "print(char_list)\n",
    "print(len(char_list))"
   ]
  },
  {
   "cell_type": "markdown",
   "metadata": {},
   "source": [
    "\n",
    "\n",
    "\n",
    "annot=open('content/Data-generator-for-CRNN/annotation.txt','r').readlines()\n",
    "imagenames=[]\n",
    "txts=[]\n",
    "\n",
    "for cnt in annot:\n",
    "\n",
    "    filename,txt=cnt.split('~')[0],cnt.split('~')[1].split('\\n')[0]\n",
    "    imagenames.append(filename)\n",
    "    txts.append(txt)\n",
    "    \n",
    "    #print(cnt.split('~')[0])\n",
    "    #print(cnt.split('~')[1].split('\\n')[0])\n",
    "    #print()\n",
    "\n",
    "chars=counting_characters(txts)\n",
    "\n",
    "c = list(zip(imagenames, txts))\n",
    "\n",
    "random.shuffle(c)\n",
    "\n",
    "imagenames, txts = zip(*c)\n",
    "\n",
    "\n",
    "#random.shuffle(image_list)\n",
    "\n",
    "#image_list=os.listdir('content/Data-generator-for-CRNN/images/')\n",
    "#image_list=[filename.split(\".\")[0]for filename in image_list]\n",
    "\n",
    "#file_train=image_list[0:int(0.75*len(image_list))]\n",
    "#file_test=image_list[int(0.75*len(image_list)):]\n",
    "\n"
   ]
  },
  {
   "cell_type": "code",
   "execution_count": 8,
   "metadata": {},
   "outputs": [
    {
     "name": "stdout",
     "output_type": "stream",
     "text": [
      " Wcale sie nie zacialem:  0\n",
      " Wcale sie nie zacialem:  0\n"
     ]
    }
   ],
   "source": [
    "\n",
    "annot=open('content/Data-generator-for-CRNN/annotation.txt','r').readlines()\n",
    "imagenames=[]\n",
    "txts=[]\n",
    "\n",
    "for cnt in annot:\n",
    "\n",
    "    filename,txt=cnt.split('~')[0],cnt.split('~')[1].split('\\n')[0]\n",
    "    imagenames.append(filename)\n",
    "    txts.append(txt)\n",
    "c = list(zip(imagenames, txts))\n",
    "\n",
    "random.shuffle(c)\n",
    "\n",
    "imagenames, txts = zip(*c)\n",
    "\n",
    "class DataGenerator(Sequence):\n",
    "    i=0\n",
    "    def __init__(self, dataset,words,max_label_len,char_list, batch_size=128, shuffle=True):\n",
    "        'Initialization'\n",
    "        self.batch_size = batch_size\n",
    "        self.dataset = dataset\n",
    "        self.words = words\n",
    "        self.shuffle = shuffle\n",
    "        self.indexes = 0\n",
    "        self.max_label_len=max_label_len\n",
    "        self.char_list=char_list\n",
    "        self.on_epoch_end()\n",
    "    \n",
    "    def __len__(self):\n",
    "        'Denotes the number of batches per epoch' \n",
    "        return int(np.floor(len(self.dataset) / self.batch_size))-1\n",
    "        #return math.ceil(len(self.dataset) / self.batch_size)\n",
    "        \n",
    "    def __getitem__(self, index):# chyba indexuje dla batcha ale nwm\n",
    "        'Generate one batch of data'\n",
    "        training_img = []\n",
    "        training_txt = []\n",
    "        train_input_length = []\n",
    "        train_label_length = []\n",
    "        orig_txt = []\n",
    "        \n",
    "        for ind in range(self.batch_size):\n",
    "            img = cv2.imread('content/Data-generator-for-CRNN/images/'+imagenames[self.i],0)\n",
    "            img=preprocess_img(img,(128,32))\n",
    "            img=np.expand_dims(img,axis=-1)\n",
    "            img = img/255.\n",
    "            txt = txts[self.i]\n",
    "\n",
    "            orig_txt.append(txt)   \n",
    "            train_label_length.append(len(txt))\n",
    "            train_input_length.append(31)\n",
    "            training_img.append(img)\n",
    "            training_txt.append(encode_to_labels(txt))\n",
    "            self.i=self.i+1\n",
    "            #print(\" getitem index: \",index)\n",
    "                #jeśli nie nadpisuje to trzeba będzie zerować z np.array()\n",
    "        train_padded_txt = pad_sequences(training_txt, maxlen=self.max_label_len, padding='post', value = len(self.char_list))\n",
    "\n",
    "        training_img = np.array(training_img)\n",
    "        train_input_length = np.array(train_input_length)\n",
    "        train_label_length = np.array(train_label_length)\n",
    "\n",
    "           # valid_img = np.array(valid_img)\n",
    "           # valid_input_length = np.array(valid_input_length)\n",
    "           # valid_label_length = np.array(valid_label_length)\n",
    "\n",
    "        #rint([training_img, train_padded_txt, train_input_length, train_label_length],np.zeros(len(training_img)))\n",
    "        return [training_img, train_padded_txt, train_input_length, train_label_length],np.zeros(len(training_img))\n",
    "         #x=[training_img, train_padded_txt, train_input_length, train_label_length]\n",
    "         #y=np.zeros(len(training_img)),\n",
    "    def on_epoch_end(self):\n",
    "        print(\" Wcale sie nie zacialem: \",self.i)\n",
    "        self.i=0\n",
    "   #    'Updates indexes after each epoch'\n",
    "   #    self.indexes = np.arange(len(dataset))\n",
    "    #   if self.shuffle == True:\n",
    "     #      np.random.shuffle(self.indexes)\n",
    "                     #max label len do dodania zapisane do pliku przy generowaniu i tu odczytane z pliku bedzi\n",
    "\n",
    "prop=int(np.floor(len(imagenames)*0.95))\n",
    "trainTuples=imagenames[:prop]\n",
    "validTuples=imagenames[prop:]\n",
    "\n",
    "trainTxts=txts[:prop]\n",
    "validTxts=txts[prop:]  \n",
    "\n",
    "#Podzielić imagenames losowo na valid i train a nie ten sam            \n",
    "train_generator = DataGenerator(dataset=trainTuples,words=trainTxts,max_label_len=20,char_list=char_list)\n",
    "valid_generator = DataGenerator(dataset=validTuples,words=validTxts,max_label_len=20,char_list=char_list)"
   ]
  },
  {
   "cell_type": "code",
   "execution_count": 9,
   "metadata": {},
   "outputs": [
    {
     "name": "stdout",
     "output_type": "stream",
     "text": [
      "4000000\n"
     ]
    }
   ],
   "source": [
    "print(len(imagenames))\n",
    "max_label_len=20\n",
    "\n"
   ]
  },
  {
   "cell_type": "code",
   "execution_count": 10,
   "metadata": {},
   "outputs": [],
   "source": [
    "#for x in char_list:\n",
    "#    print(x,\": \",chars[x])\n",
    "    "
   ]
  },
  {
   "cell_type": "code",
   "execution_count": 11,
   "metadata": {
    "colab": {
     "base_uri": "https://localhost:8080/"
    },
    "id": "SqWcDplF6HAt",
    "outputId": "449c3359-389e-445b-d7cc-7bc682fd2328"
   },
   "outputs": [
    {
     "name": "stderr",
     "output_type": "stream",
     "text": [
      "2022-06-17 14:08:27.106557: I tensorflow/stream_executor/cuda/cuda_gpu_executor.cc:936] successful NUMA node read from SysFS had negative value (-1), but there must be at least one NUMA node, so returning NUMA node zero\n",
      "2022-06-17 14:08:27.192395: I tensorflow/stream_executor/cuda/cuda_gpu_executor.cc:936] successful NUMA node read from SysFS had negative value (-1), but there must be at least one NUMA node, so returning NUMA node zero\n",
      "2022-06-17 14:08:27.192656: I tensorflow/stream_executor/cuda/cuda_gpu_executor.cc:936] successful NUMA node read from SysFS had negative value (-1), but there must be at least one NUMA node, so returning NUMA node zero\n",
      "2022-06-17 14:08:27.194573: I tensorflow/core/platform/cpu_feature_guard.cc:151] This TensorFlow binary is optimized with oneAPI Deep Neural Network Library (oneDNN) to use the following CPU instructions in performance-critical operations:  AVX2 FMA\n",
      "To enable them in other operations, rebuild TensorFlow with the appropriate compiler flags.\n",
      "2022-06-17 14:08:27.196786: I tensorflow/stream_executor/cuda/cuda_gpu_executor.cc:936] successful NUMA node read from SysFS had negative value (-1), but there must be at least one NUMA node, so returning NUMA node zero\n",
      "2022-06-17 14:08:27.196976: I tensorflow/stream_executor/cuda/cuda_gpu_executor.cc:936] successful NUMA node read from SysFS had negative value (-1), but there must be at least one NUMA node, so returning NUMA node zero\n",
      "2022-06-17 14:08:27.197139: I tensorflow/stream_executor/cuda/cuda_gpu_executor.cc:936] successful NUMA node read from SysFS had negative value (-1), but there must be at least one NUMA node, so returning NUMA node zero\n",
      "2022-06-17 14:08:28.013104: I tensorflow/stream_executor/cuda/cuda_gpu_executor.cc:936] successful NUMA node read from SysFS had negative value (-1), but there must be at least one NUMA node, so returning NUMA node zero\n",
      "2022-06-17 14:08:28.013282: I tensorflow/stream_executor/cuda/cuda_gpu_executor.cc:936] successful NUMA node read from SysFS had negative value (-1), but there must be at least one NUMA node, so returning NUMA node zero\n",
      "2022-06-17 14:08:28.013412: I tensorflow/stream_executor/cuda/cuda_gpu_executor.cc:936] successful NUMA node read from SysFS had negative value (-1), but there must be at least one NUMA node, so returning NUMA node zero\n",
      "2022-06-17 14:08:28.014092: I tensorflow/core/common_runtime/gpu/gpu_device.cc:1525] Created device /job:localhost/replica:0/task:0/device:GPU:0 with 9911 MB memory:  -> device: 0, name: NVIDIA GeForce RTX 3060, pci bus id: 0000:0a:00.0, compute capability: 8.6\n"
     ]
    }
   ],
   "source": [
    "inputs = Input(shape=(32,128,1))\n",
    " \n",
    "# convolution layer with kernel size (3,3)\n",
    "conv_1 = Conv2D(64, (3,3), activation = 'relu', padding='same')(inputs)\n",
    "# poolig layer with kernel size (2,2)\n",
    "pool_1 = MaxPool2D(pool_size=(2, 2), strides=2)(conv_1)\n",
    " \n",
    "conv_2 = Conv2D(128, (3,3), activation = 'relu', padding='same')(pool_1)\n",
    "pool_2 = MaxPool2D(pool_size=(2, 2), strides=2)(conv_2)\n",
    " \n",
    "conv_3 = Conv2D(256, (3,3), activation = 'relu', padding='same')(pool_2)\n",
    " \n",
    "conv_4 = Conv2D(256, (3,3), activation = 'relu', padding='same')(conv_3)\n",
    "# poolig layer with kernel size (2,1)\n",
    "pool_4 = MaxPool2D(pool_size=(2, 1))(conv_4)\n",
    " \n",
    "conv_5 = Conv2D(512, (3,3), activation = 'relu', padding='same')(pool_4)\n",
    "# Batch normalization layer\n",
    "batch_norm_5 = BatchNormalization()(conv_5)\n",
    " \n",
    "conv_6 = Conv2D(512, (3,3), activation = 'relu', padding='same')(batch_norm_5)\n",
    "batch_norm_6 = BatchNormalization()(conv_6)\n",
    "\n",
    "pool_6 = MaxPool2D(pool_size=(2, 1))(batch_norm_6)\n",
    "\n",
    " \n",
    "conv_7 = Conv2D(512, (2,2), activation = 'relu')(pool_6)\n",
    " \n",
    "squeezed = Lambda(lambda x: K.squeeze(x, 1))(conv_7)\n",
    "\n",
    "# bidirectional LSTM layers with units=128\n",
    "blstm_1 = Bidirectional(LSTM(128, return_sequences=True, dropout = 0.2))(squeezed)\n",
    "blstm_2 = Bidirectional(LSTM(128, return_sequences=True, dropout = 0.2))(blstm_1)\n",
    " \n",
    "outputs = TimeDistributed(Dense(len(char_list)+1, activation = 'softmax'))(blstm_2)\n",
    "\n",
    "# model to be used at test time\n",
    "act_model = Model(inputs, outputs)"
   ]
  },
  {
   "cell_type": "code",
   "execution_count": 12,
   "metadata": {
    "colab": {
     "base_uri": "https://localhost:8080/"
    },
    "id": "jBtmnGNn6I0J",
    "outputId": "cf4688c0-0540-47fa-e14c-d401d81ac38b"
   },
   "outputs": [
    {
     "name": "stdout",
     "output_type": "stream",
     "text": [
      "Model: \"model\"\n",
      "_________________________________________________________________\n",
      " Layer (type)                Output Shape              Param #   \n",
      "=================================================================\n",
      " input_1 (InputLayer)        [(None, 32, 128, 1)]      0         \n",
      "                                                                 \n",
      " conv2d (Conv2D)             (None, 32, 128, 64)       640       \n",
      "                                                                 \n",
      " max_pooling2d (MaxPooling2D  (None, 16, 64, 64)       0         \n",
      " )                                                               \n",
      "                                                                 \n",
      " conv2d_1 (Conv2D)           (None, 16, 64, 128)       73856     \n",
      "                                                                 \n",
      " max_pooling2d_1 (MaxPooling  (None, 8, 32, 128)       0         \n",
      " 2D)                                                             \n",
      "                                                                 \n",
      " conv2d_2 (Conv2D)           (None, 8, 32, 256)        295168    \n",
      "                                                                 \n",
      " conv2d_3 (Conv2D)           (None, 8, 32, 256)        590080    \n",
      "                                                                 \n",
      " max_pooling2d_2 (MaxPooling  (None, 4, 32, 256)       0         \n",
      " 2D)                                                             \n",
      "                                                                 \n",
      " conv2d_4 (Conv2D)           (None, 4, 32, 512)        1180160   \n",
      "                                                                 \n",
      " batch_normalization (BatchN  (None, 4, 32, 512)       2048      \n",
      " ormalization)                                                   \n",
      "                                                                 \n",
      " conv2d_5 (Conv2D)           (None, 4, 32, 512)        2359808   \n",
      "                                                                 \n",
      " batch_normalization_1 (Batc  (None, 4, 32, 512)       2048      \n",
      " hNormalization)                                                 \n",
      "                                                                 \n",
      " max_pooling2d_3 (MaxPooling  (None, 2, 32, 512)       0         \n",
      " 2D)                                                             \n",
      "                                                                 \n",
      " conv2d_6 (Conv2D)           (None, 1, 31, 512)        1049088   \n",
      "                                                                 \n",
      " lambda (Lambda)             (None, 31, 512)           0         \n",
      "                                                                 \n",
      " bidirectional (Bidirectiona  (None, 31, 256)          656384    \n",
      " l)                                                              \n",
      "                                                                 \n",
      " bidirectional_1 (Bidirectio  (None, 31, 256)          394240    \n",
      " nal)                                                            \n",
      "                                                                 \n",
      " time_distributed (TimeDistr  (None, 31, 66)           16962     \n",
      " ibuted)                                                         \n",
      "                                                                 \n",
      "=================================================================\n",
      "Total params: 6,620,482\n",
      "Trainable params: 6,618,434\n",
      "Non-trainable params: 2,048\n",
      "_________________________________________________________________\n"
     ]
    }
   ],
   "source": [
    "act_model.summary()"
   ]
  },
  {
   "cell_type": "code",
   "execution_count": 13,
   "metadata": {
    "colab": {
     "base_uri": "https://localhost:8080/"
    },
    "id": "TMxpZweM6MfI",
    "outputId": "dfe1580c-ef52-482b-dcf6-2a392523b4e3"
   },
   "outputs": [],
   "source": [
    "labels = Input(name='the_labels', shape=[max_label_len], dtype='float32')\n",
    "input_length = Input(name='input_length', shape=[1], dtype='int64')\n",
    "label_length = Input(name='label_length', shape=[1], dtype='int64')\n",
    " \n",
    " \n",
    "def ctc_lambda_func(args):\n",
    "    y_pred, labels, input_length, label_length = args\n",
    " \n",
    "    return K.ctc_batch_cost(labels, y_pred, input_length, label_length)\n",
    " \n",
    " \n",
    "loss_out = Lambda(ctc_lambda_func, output_shape=(1,), name='ctc')([outputs, labels, input_length, label_length])\n",
    "\n",
    "#model to be used at training time\n",
    "model = Model(inputs=[inputs, labels, input_length, label_length], outputs=loss_out)"
   ]
  },
  {
   "cell_type": "code",
   "execution_count": 14,
   "metadata": {
    "id": "xhqs_1FE6NYR"
   },
   "outputs": [],
   "source": [
    "model.compile(loss={'ctc': lambda y_true, y_pred: y_pred}, optimizer = 'adam',metrics=['accuracy'])\n",
    "es = EarlyStopping(monitor='val_loss', mode='min', verbose=1, patience=5) \n",
    "    \n",
    "filepath='wszystkie_duze_male.hdf5'\n",
    "checkpoint = ModelCheckpoint(filepath=filepath, monitor='val_loss', verbose=1, save_best_only=True, mode='auto')\n",
    "callbacks_list = [checkpoint,es]"
   ]
  },
  {
   "cell_type": "markdown",
   "metadata": {
    "colab": {
     "base_uri": "https://localhost:8080/"
    },
    "id": "Bx41yVYP9tQh",
    "outputId": "91a5bfeb-a85d-4ccf-b948-90320e8af220",
    "scrolled": true
   },
   "source": [
    "#batch_size = 256\n",
    "epochs = 5\n",
    "history = model.fit(train_generator, \n",
    "                    epochs = epochs,validation_data = ([valid_img, valid_padded_txt, \n",
    "                    valid_input_length, valid_label_length],[np.zeros(len(valid_img))]),\n",
    "                    verbose = 1, callbacks = callbacks_list)"
   ]
  },
  {
   "cell_type": "code",
   "execution_count": null,
   "metadata": {},
   "outputs": [
    {
     "name": "stdout",
     "output_type": "stream",
     "text": [
      "Epoch 1/25\n"
     ]
    },
    {
     "name": "stderr",
     "output_type": "stream",
     "text": [
      "2022-06-17 14:08:33.621192: I tensorflow/stream_executor/cuda/cuda_dnn.cc:368] Loaded cuDNN version 8401\n",
      "2022-06-17 14:08:35.349739: I tensorflow/core/platform/default/subprocess.cc:304] Start cannot spawn child process: No such file or directory\n",
      "2022-06-17 14:08:36.605549: I tensorflow/stream_executor/cuda/cuda_blas.cc:1786] TensorFloat-32 will be used for the matrix multiplication. This will only be logged once.\n"
     ]
    },
    {
     "name": "stdout",
     "output_type": "stream",
     "text": [
      "29686/29686 [==============================] - ETA: 0s - loss: 1.0941 - accuracy: 0.8443 Wcale sie nie zacialem:  199936\n",
      "\n",
      "Epoch 1: val_loss improved from inf to 0.27012, saving model to wszystkie_duze_male.hdf5\n",
      "29686/29686 [==============================] - 2754s 92ms/step - loss: 1.0941 - accuracy: 0.8443 - val_loss: 0.2701 - val_accuracy: 0.9217\n",
      " Wcale sie nie zacialem:  3799936\n",
      "Epoch 2/25\n",
      "29686/29686 [==============================] - ETA: 0s - loss: 0.2531 - accuracy: 0.9201 Wcale sie nie zacialem:  199808\n",
      "\n",
      "Epoch 2: val_loss improved from 0.27012 to 0.26515, saving model to wszystkie_duze_male.hdf5\n",
      "29686/29686 [==============================] - 2690s 91ms/step - loss: 0.2531 - accuracy: 0.9201 - val_loss: 0.2651 - val_accuracy: 0.9190\n",
      " Wcale sie nie zacialem:  3799808\n",
      "Epoch 3/25\n",
      " 4480/29686 [===>..........................] - ETA: 37:36 - loss: 0.2401 - accuracy: 0.9234"
     ]
    }
   ],
   "source": [
    "#batch_size = 256\n",
    "epochs = 25\n",
    "history = model.fit(train_generator,validation_data = valid_generator,epochs = epochs,verbose = 1, callbacks = callbacks_list)"
   ]
  },
  {
   "cell_type": "code",
   "execution_count": null,
   "metadata": {
    "id": "pW4mPMB3MpCF"
   },
   "outputs": [],
   "source": [
    "# load the saved best model weights\n",
    "act_model.load_weights('wszystkie.hdf5')\n",
    " \n",
    "# predict outputs on validation images\n",
    "prediction = act_model.predict(valid_img[10:20])\n",
    " \n",
    "# use CTC decoder\n",
    "out = K.get_value(K.ctc_decode(prediction, input_length=np.ones(prediction.shape[0])*prediction.shape[1],\n",
    "                         greedy=True)[0][0])\n",
    " \n",
    "# see the results\n",
    "i = 10\n",
    "for x in out:\n",
    "    print(\"original_text = \", valid_orig_txt[i])\n",
    "    print(\"predicted text = \", end = '')\n",
    "    for p in x:  \n",
    "        if int(p) != -1:\n",
    "            print(char_list[int(p)], end = '')       \n",
    "    print('\\n')\n",
    "    i+=1"
   ]
  },
  {
   "cell_type": "code",
   "execution_count": null,
   "metadata": {},
   "outputs": [],
   "source": [
    "plt.plot(history.history['accuracy'])\n",
    "plt.plot(history.history['val_accuracy'])\n",
    "plt.title('Model accuracy')\n",
    "plt.ylabel('Accuracy')\n",
    "plt.xlabel('Epoch')\n",
    "plt.legend(['Train','Validation'], loc='upper left')\n",
    "plt.savefig('my_plot.png')\n",
    "plt.show\n"
   ]
  },
  {
   "cell_type": "code",
   "execution_count": null,
   "metadata": {},
   "outputs": [],
   "source": []
  }
 ],
 "metadata": {
  "accelerator": "GPU",
  "colab": {
   "collapsed_sections": [],
   "name": "CRNN.ipynb",
   "provenance": []
  },
  "kernelspec": {
   "display_name": "Python 3 (ipykernel)",
   "language": "python",
   "name": "python3"
  },
  "language_info": {
   "codemirror_mode": {
    "name": "ipython",
    "version": 3
   },
   "file_extension": ".py",
   "mimetype": "text/x-python",
   "name": "python",
   "nbconvert_exporter": "python",
   "pygments_lexer": "ipython3",
   "version": "3.8.10"
  }
 },
 "nbformat": 4,
 "nbformat_minor": 1
}
